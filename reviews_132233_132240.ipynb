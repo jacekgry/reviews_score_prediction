{
  "nbformat": 4,
  "nbformat_minor": 0,
  "metadata": {
    "colab": {
      "name": "reviews_132233_132240.ipynb",
      "provenance": [],
      "collapsed_sections": []
    },
    "kernelspec": {
      "name": "python3",
      "display_name": "Python 3"
    }
  },
  "cells": [
    {
      "cell_type": "code",
      "metadata": {
        "id": "iQojgQ6TLmXG",
        "colab": {
          "base_uri": "https://localhost:8080/"
        },
        "outputId": "5e626ee9-d5fa-4b19-d5ff-24e2ef78f02e"
      },
      "source": [
        "import pandas as pd\r\n",
        "import numpy as np\r\n",
        "from sklearn.model_selection import train_test_split\r\n",
        "from sklearn.feature_extraction.text import TfidfVectorizer\r\n",
        "import seaborn as sns\r\n",
        "import matplotlib.pyplot as plt\r\n",
        "from sklearn.dummy import DummyClassifier\r\n",
        "import re\r\n",
        "import string\r\n",
        "import nltk\r\n",
        "from nltk import word_tokenize, PorterStemmer, WordNetLemmatizer\r\n",
        "from nltk.corpus import stopwords\r\n",
        "from sklearn.metrics import classification_report\r\n",
        "from sklearn.tree import DecisionTreeClassifier\r\n",
        "from sklearn.decomposition import TruncatedSVD\r\n",
        "from imblearn.under_sampling import RandomUnderSampler \r\n",
        "from collections import Counter\r\n",
        "from imblearn.under_sampling import TomekLinks\r\n",
        "from sklearn.naive_bayes import MultinomialNB\r\n",
        "from sklearn.linear_model import LogisticRegression\r\n",
        "from sklearn.svm import SVC"
      ],
      "execution_count": 1,
      "outputs": [
        {
          "output_type": "stream",
          "text": [
            "/usr/local/lib/python3.6/dist-packages/sklearn/externals/six.py:31: FutureWarning: The module is deprecated in version 0.21 and will be removed in version 0.23 since we've dropped support for Python 2.7. Please rely on the official version of six (https://pypi.org/project/six/).\n",
            "  \"(https://pypi.org/project/six/).\", FutureWarning)\n",
            "/usr/local/lib/python3.6/dist-packages/sklearn/utils/deprecation.py:144: FutureWarning: The sklearn.neighbors.base module is  deprecated in version 0.22 and will be removed in version 0.24. The corresponding classes / functions should instead be imported from sklearn.neighbors. Anything that cannot be imported from sklearn.neighbors is now part of the private API.\n",
            "  warnings.warn(message, FutureWarning)\n"
          ],
          "name": "stderr"
        }
      ]
    },
    {
      "cell_type": "code",
      "metadata": {
        "colab": {
          "base_uri": "https://localhost:8080/"
        },
        "id": "AFpFQptYGZ_J",
        "outputId": "25f69df5-8795-403a-cf93-99f25d7edede"
      },
      "source": [
        "from google.colab import drive\n",
        "drive.mount('/content/drive')"
      ],
      "execution_count": 2,
      "outputs": [
        {
          "output_type": "stream",
          "text": [
            "Drive already mounted at /content/drive; to attempt to forcibly remount, call drive.mount(\"/content/drive\", force_remount=True).\n"
          ],
          "name": "stdout"
        }
      ]
    },
    {
      "cell_type": "code",
      "metadata": {
        "colab": {
          "base_uri": "https://localhost:8080/",
          "height": 313
        },
        "id": "ii6UR6ehNCDd",
        "outputId": "77d96630-f82d-43bd-c543-9a4e3b358048"
      },
      "source": [
        "data = pd.read_csv('drive/MyDrive/reviews/reviews_train.csv')\r\n",
        "print(len(data))\r\n",
        "data.head()"
      ],
      "execution_count": 3,
      "outputs": [
        {
          "output_type": "stream",
          "text": [
            "555791\n"
          ],
          "name": "stdout"
        },
        {
          "output_type": "execute_result",
          "data": {
            "text/html": [
              "<div>\n",
              "<style scoped>\n",
              "    .dataframe tbody tr th:only-of-type {\n",
              "        vertical-align: middle;\n",
              "    }\n",
              "\n",
              "    .dataframe tbody tr th {\n",
              "        vertical-align: top;\n",
              "    }\n",
              "\n",
              "    .dataframe thead th {\n",
              "        text-align: right;\n",
              "    }\n",
              "</style>\n",
              "<table border=\"1\" class=\"dataframe\">\n",
              "  <thead>\n",
              "    <tr style=\"text-align: right;\">\n",
              "      <th></th>\n",
              "      <th>reviewerID</th>\n",
              "      <th>asin</th>\n",
              "      <th>reviewerName</th>\n",
              "      <th>helpful</th>\n",
              "      <th>reviewText</th>\n",
              "      <th>summary</th>\n",
              "      <th>unixReviewTime</th>\n",
              "      <th>reviewTime</th>\n",
              "      <th>score</th>\n",
              "    </tr>\n",
              "  </thead>\n",
              "  <tbody>\n",
              "    <tr>\n",
              "      <th>0</th>\n",
              "      <td>A35C43YE9HU9CN</td>\n",
              "      <td>B0064X7B4A</td>\n",
              "      <td>Joan Miller</td>\n",
              "      <td>[0, 0]</td>\n",
              "      <td>I have decided not to play this game.  I can't...</td>\n",
              "      <td>Friends</td>\n",
              "      <td>1396396800</td>\n",
              "      <td>04 2, 2014</td>\n",
              "      <td>1.0</td>\n",
              "    </tr>\n",
              "    <tr>\n",
              "      <th>1</th>\n",
              "      <td>AHFS8CGWWXB5B</td>\n",
              "      <td>B00H1P4V3E</td>\n",
              "      <td>WASH ST. GAMER</td>\n",
              "      <td>[3, 4]</td>\n",
              "      <td>The Amazon Appstore free app of the day for Ju...</td>\n",
              "      <td>Amazon Makes This \"Longest Spring Ever\" for Fi...</td>\n",
              "      <td>1402272000</td>\n",
              "      <td>06 9, 2014</td>\n",
              "      <td>2.0</td>\n",
              "    </tr>\n",
              "    <tr>\n",
              "      <th>2</th>\n",
              "      <td>A3EW8OTQ90NVHM</td>\n",
              "      <td>B00CLVW82O</td>\n",
              "      <td>Kindle Customer</td>\n",
              "      <td>[0, 4]</td>\n",
              "      <td>this game was so mush fun I wish I could play ...</td>\n",
              "      <td>best</td>\n",
              "      <td>1368921600</td>\n",
              "      <td>05 19, 2013</td>\n",
              "      <td>5.0</td>\n",
              "    </tr>\n",
              "    <tr>\n",
              "      <th>3</th>\n",
              "      <td>AJ3GHFJY1IUTD</td>\n",
              "      <td>B007T9WVKM</td>\n",
              "      <td>BrawlMaster4</td>\n",
              "      <td>[0, 2]</td>\n",
              "      <td>Its pretty fun and very good looking,  but you...</td>\n",
              "      <td>Fun Game</td>\n",
              "      <td>1350172800</td>\n",
              "      <td>10 14, 2012</td>\n",
              "      <td>5.0</td>\n",
              "    </tr>\n",
              "    <tr>\n",
              "      <th>4</th>\n",
              "      <td>A3JJGBS4EL603S</td>\n",
              "      <td>B00J206J5E</td>\n",
              "      <td>K. Wilson \"thesupe\"</td>\n",
              "      <td>[0, 0]</td>\n",
              "      <td>good graphics; immersive storyline; hard to st...</td>\n",
              "      <td>great game!</td>\n",
              "      <td>1396915200</td>\n",
              "      <td>04 8, 2014</td>\n",
              "      <td>5.0</td>\n",
              "    </tr>\n",
              "  </tbody>\n",
              "</table>\n",
              "</div>"
            ],
            "text/plain": [
              "       reviewerID        asin  ...   reviewTime score\n",
              "0  A35C43YE9HU9CN  B0064X7B4A  ...   04 2, 2014   1.0\n",
              "1   AHFS8CGWWXB5B  B00H1P4V3E  ...   06 9, 2014   2.0\n",
              "2  A3EW8OTQ90NVHM  B00CLVW82O  ...  05 19, 2013   5.0\n",
              "3   AJ3GHFJY1IUTD  B007T9WVKM  ...  10 14, 2012   5.0\n",
              "4  A3JJGBS4EL603S  B00J206J5E  ...   04 8, 2014   5.0\n",
              "\n",
              "[5 rows x 9 columns]"
            ]
          },
          "metadata": {
            "tags": []
          },
          "execution_count": 3
        }
      ]
    },
    {
      "cell_type": "code",
      "metadata": {
        "colab": {
          "base_uri": "https://localhost:8080/"
        },
        "id": "08wjpNakOiR2",
        "outputId": "9f8ea0e7-774a-4634-ee52-800c7ef36686"
      },
      "source": [
        "data.isnull().sum()"
      ],
      "execution_count": null,
      "outputs": [
        {
          "output_type": "execute_result",
          "data": {
            "text/plain": [
              "reviewerID         0\n",
              "asin               0\n",
              "reviewerName      14\n",
              "helpful            0\n",
              "reviewText         8\n",
              "summary           24\n",
              "unixReviewTime     0\n",
              "reviewTime         0\n",
              "score              0\n",
              "dtype: int64"
            ]
          },
          "metadata": {
            "tags": []
          },
          "execution_count": 4
        }
      ]
    },
    {
      "cell_type": "code",
      "metadata": {
        "colab": {
          "base_uri": "https://localhost:8080/"
        },
        "id": "S18H89o-Oj3B",
        "outputId": "5c008bc4-d0b1-4f14-d198-7af052362f6f"
      },
      "source": [
        "data = data.dropna()\r\n",
        "len(data)"
      ],
      "execution_count": 4,
      "outputs": [
        {
          "output_type": "execute_result",
          "data": {
            "text/plain": [
              "555745"
            ]
          },
          "metadata": {
            "tags": []
          },
          "execution_count": 4
        }
      ]
    },
    {
      "cell_type": "code",
      "metadata": {
        "id": "Px1Zs1A5PHN2"
      },
      "source": [
        "data['score']=data['score'].astype(int)"
      ],
      "execution_count": 5,
      "outputs": []
    },
    {
      "cell_type": "code",
      "metadata": {
        "colab": {
          "base_uri": "https://localhost:8080/",
          "height": 383
        },
        "id": "ojwSUkzxULo8",
        "outputId": "e29d6a5d-9b73-48ac-86ca-0c345ce2fb61"
      },
      "source": [
        "sns.catplot(x=\"score\", kind=\"count\", palette=\"ch:.25\", data=data).savefig('drive/MyDrive/reviews/distribution.png')"
      ],
      "execution_count": null,
      "outputs": [
        {
          "output_type": "display_data",
          "data": {
            "image/png": "[encoded data removed]",
            "text/plain": [
              "<Figure size 360x360 with 1 Axes>"
            ]
          },
          "metadata": {
            "tags": [],
            "needs_background": "light"
          }
        }
      ]
    },
    {
      "cell_type": "code",
      "metadata": {
        "id": "rXPQ0QiYXWKT"
      },
      "source": [
        "data['helpful_yes'] = data['helpful'].apply(lambda x: eval(x)[0])\r\n",
        "data['helpful_not'] = data['helpful'].apply(lambda x: eval(x)[1]) \r\n",
        "\r\n",
        "data['helpfulness'] = np.where(data['helpful_not'] > 0, data['helpful_yes'] / (data['helpful_not']), 1.0)"
      ],
      "execution_count": 6,
      "outputs": []
    },
    {
      "cell_type": "code",
      "metadata": {
        "colab": {
          "base_uri": "https://localhost:8080/"
        },
        "id": "XvlyGaJUZckT",
        "outputId": "fbc1db1d-1a74-49dd-db50-ec0324df2d4f"
      },
      "source": [
        "data['helpfulness'].describe()\r\n",
        "# data.sample(10)"
      ],
      "execution_count": null,
      "outputs": [
        {
          "output_type": "execute_result",
          "data": {
            "text/plain": [
              "count    555745.000000\n",
              "mean          0.867519\n",
              "std           0.281324\n",
              "min           0.000000\n",
              "25%           0.966667\n",
              "50%           1.000000\n",
              "75%           1.000000\n",
              "max           1.000000\n",
              "Name: helpfulness, dtype: float64"
            ]
          },
          "metadata": {
            "tags": []
          },
          "execution_count": 10
        }
      ]
    },
    {
      "cell_type": "code",
      "metadata": {
        "id": "jREqSoyrarZ7"
      },
      "source": [
        "data=data.drop(columns=['helpful_yes', 'helpful_not'])"
      ],
      "execution_count": null,
      "outputs": []
    },
    {
      "cell_type": "code",
      "metadata": {
        "colab": {
          "base_uri": "https://localhost:8080/",
          "height": 106
        },
        "id": "o_unzqpTcKy1",
        "outputId": "c9d837cc-c4ae-477d-cd1b-789cbd80ffb9"
      },
      "source": [
        "data[['helpfulness', 'score']].corr(method='spearman')"
      ],
      "execution_count": null,
      "outputs": [
        {
          "output_type": "execute_result",
          "data": {
            "text/html": [
              "<div>\n",
              "<style scoped>\n",
              "    .dataframe tbody tr th:only-of-type {\n",
              "        vertical-align: middle;\n",
              "    }\n",
              "\n",
              "    .dataframe tbody tr th {\n",
              "        vertical-align: top;\n",
              "    }\n",
              "\n",
              "    .dataframe thead th {\n",
              "        text-align: right;\n",
              "    }\n",
              "</style>\n",
              "<table border=\"1\" class=\"dataframe\">\n",
              "  <thead>\n",
              "    <tr style=\"text-align: right;\">\n",
              "      <th></th>\n",
              "      <th>helpfulness</th>\n",
              "      <th>score</th>\n",
              "    </tr>\n",
              "  </thead>\n",
              "  <tbody>\n",
              "    <tr>\n",
              "      <th>helpfulness</th>\n",
              "      <td>1.000000</td>\n",
              "      <td>0.232083</td>\n",
              "    </tr>\n",
              "    <tr>\n",
              "      <th>score</th>\n",
              "      <td>0.232083</td>\n",
              "      <td>1.000000</td>\n",
              "    </tr>\n",
              "  </tbody>\n",
              "</table>\n",
              "</div>"
            ],
            "text/plain": [
              "             helpfulness     score\n",
              "helpfulness     1.000000  0.232083\n",
              "score           0.232083  1.000000"
            ]
          },
          "metadata": {
            "tags": []
          },
          "execution_count": 12
        }
      ]
    },
    {
      "cell_type": "code",
      "metadata": {
        "colab": {
          "base_uri": "https://localhost:8080/"
        },
        "id": "DjmC5Skf6kgf",
        "outputId": "39e136e0-69f4-4054-cc6b-f8a216a50318"
      },
      "source": [
        "nltk.download('stopwords')\r\n",
        "nltk.download('punkt')"
      ],
      "execution_count": 7,
      "outputs": [
        {
          "output_type": "stream",
          "text": [
            "[nltk_data] Downloading package stopwords to /root/nltk_data...\n",
            "[nltk_data]   Unzipping corpora/stopwords.zip.\n",
            "[nltk_data] Downloading package punkt to /root/nltk_data...\n",
            "[nltk_data]   Unzipping tokenizers/punkt.zip.\n"
          ],
          "name": "stdout"
        },
        {
          "output_type": "execute_result",
          "data": {
            "text/plain": [
              "True"
            ]
          },
          "metadata": {
            "tags": []
          },
          "execution_count": 7
        }
      ]
    },
    {
      "cell_type": "code",
      "metadata": {
        "id": "1Cyg9RMo7oSy"
      },
      "source": [
        "stop_words = stopwords.words('english')\r\n",
        "stemmer = PorterStemmer()\r\n",
        "lemmatizer = WordNetLemmatizer()"
      ],
      "execution_count": 8,
      "outputs": []
    },
    {
      "cell_type": "code",
      "metadata": {
        "id": "y-RN1ZSI30PQ"
      },
      "source": [
        "def preprocess_text(text):\r\n",
        "  text = text.lower()\r\n",
        "  text = text.strip()\r\n",
        "  text = re.sub('\\s\\s+', ' ', text)\r\n",
        "  text = ''.join([char for char in text if char not in string.punctuation])\r\n",
        "  text = [stemmer.stem(word) for word in word_tokenize(text) if word not in stop_words]\r\n",
        "  return text"
      ],
      "execution_count": 9,
      "outputs": []
    },
    {
      "cell_type": "code",
      "metadata": {
        "id": "dbIhZ2NLVu2B",
        "colab": {
          "base_uri": "https://localhost:8080/",
          "height": 195
        },
        "outputId": "532d1752-5c9b-49e5-b179-e6c0a8cdce90"
      },
      "source": [
        "data['review_and_summary_preprocessed'] = data['reviewText'] + ' ' + data['summary']\r\n",
        "data['review_and_summary_preprocessed'] = data['review_and_summary_preprocessed'].apply(preprocess_text)\r\n",
        "data[['review_and_summary_preprocessed']].head()"
      ],
      "execution_count": 10,
      "outputs": [
        {
          "output_type": "execute_result",
          "data": {
            "text/html": [
              "<div>\n",
              "<style scoped>\n",
              "    .dataframe tbody tr th:only-of-type {\n",
              "        vertical-align: middle;\n",
              "    }\n",
              "\n",
              "    .dataframe tbody tr th {\n",
              "        vertical-align: top;\n",
              "    }\n",
              "\n",
              "    .dataframe thead th {\n",
              "        text-align: right;\n",
              "    }\n",
              "</style>\n",
              "<table border=\"1\" class=\"dataframe\">\n",
              "  <thead>\n",
              "    <tr style=\"text-align: right;\">\n",
              "      <th></th>\n",
              "      <th>review_and_summary_preprocessed</th>\n",
              "    </tr>\n",
              "  </thead>\n",
              "  <tbody>\n",
              "    <tr>\n",
              "      <th>0</th>\n",
              "      <td>[decid, play, game, cant, keep, track, everyon...</td>\n",
              "    </tr>\n",
              "    <tr>\n",
              "      <th>1</th>\n",
              "      <td>[amazon, appstor, free, app, day, june, 9th, 2...</td>\n",
              "    </tr>\n",
              "    <tr>\n",
              "      <th>2</th>\n",
              "      <td>[game, mush, fun, wish, could, play, love, pay...</td>\n",
              "    </tr>\n",
              "    <tr>\n",
              "      <th>3</th>\n",
              "      <td>[pretti, fun, good, look, drive, like, 300, mp...</td>\n",
              "    </tr>\n",
              "    <tr>\n",
              "      <th>4</th>\n",
              "      <td>[good, graphic, immers, storylin, hard, stop, ...</td>\n",
              "    </tr>\n",
              "  </tbody>\n",
              "</table>\n",
              "</div>"
            ],
            "text/plain": [
              "                     review_and_summary_preprocessed\n",
              "0  [decid, play, game, cant, keep, track, everyon...\n",
              "1  [amazon, appstor, free, app, day, june, 9th, 2...\n",
              "2  [game, mush, fun, wish, could, play, love, pay...\n",
              "3  [pretti, fun, good, look, drive, like, 300, mp...\n",
              "4  [good, graphic, immers, storylin, hard, stop, ..."
            ]
          },
          "metadata": {
            "tags": []
          },
          "execution_count": 10
        }
      ]
    },
    {
      "cell_type": "code",
      "metadata": {
        "id": "-9eIseltV_Lj"
      },
      "source": [
        "train_df, test_df = train_test_split(data, stratify=data['score'], test_size=0.2)\r\n",
        "train_df.to_csv('drive/MyDrive/reviews/train.csv')\r\n",
        "test_df.to_csv('drive/MyDrive/reviews/test.csv')\r\n",
        "test_df_raw = test_df.drop(columns=['helpfulness', 'review_and_summary_preprocessed'])\r\n",
        "test_df_raw.to_csv('drive/MyDrive/reviews/test_raw.csv', index=False)"
      ],
      "execution_count": 11,
      "outputs": []
    },
    {
      "cell_type": "code",
      "metadata": {
        "id": "sTf9dsg9BedK"
      },
      "source": [
        "tfidf = TfidfVectorizer(analyzer='word', stop_words='english', min_df=5, ngram_range=(1,2), max_features=24000)"
      ],
      "execution_count": 12,
      "outputs": []
    },
    {
      "cell_type": "code",
      "metadata": {
        "id": "mokp43dcDeC9"
      },
      "source": [
        "X_train, X_val, y_train, y_val = train_test_split(train_df[['review_and_summary_preprocessed', 'helpfulness']], train_df['score'], test_size=0.1, stratify=train_df['score'])"
      ],
      "execution_count": 14,
      "outputs": []
    },
    {
      "cell_type": "code",
      "metadata": {
        "colab": {
          "base_uri": "https://localhost:8080/"
        },
        "id": "_iVIlfkjO3M4",
        "outputId": "a25db71a-5da1-472c-8d02-6d22b5f198a6"
      },
      "source": [
        "X_train['helpfulness'].describe()"
      ],
      "execution_count": null,
      "outputs": [
        {
          "output_type": "execute_result",
          "data": {
            "text/plain": [
              "count    400136.000000\n",
              "mean          0.867644\n",
              "std           0.281033\n",
              "min           0.000000\n",
              "25%           0.962963\n",
              "50%           1.000000\n",
              "75%           1.000000\n",
              "max           1.000000\n",
              "Name: helpfulness, dtype: float64"
            ]
          },
          "metadata": {
            "tags": []
          },
          "execution_count": 43
        }
      ]
    },
    {
      "cell_type": "code",
      "metadata": {
        "colab": {
          "base_uri": "https://localhost:8080/"
        },
        "id": "nwRT3OhYcE4X",
        "outputId": "f9f57884-5bc7-48d4-9c2e-659573cf8c72"
      },
      "source": [
        "list_of_docs_train = [' '.join(words) for words in X_train['review_and_summary_preprocessed'].tolist()]\r\n",
        "list_of_docs_val = [' '.join(words) for words in X_val['review_and_summary_preprocessed'].tolist()]\r\n",
        "\r\n",
        "tfidf.fit(list_of_docs_train)\r\n",
        "\r\n",
        "X_train_tfidf = tfidf.transform(list_of_docs_train)\r\n",
        "X_val_tfidf = tfidf.transform(list_of_docs_val)\r\n",
        "X_train_tfidf.shape"
      ],
      "execution_count": 15,
      "outputs": [
        {
          "output_type": "execute_result",
          "data": {
            "text/plain": [
              "(400136, 24000)"
            ]
          },
          "metadata": {
            "tags": []
          },
          "execution_count": 15
        }
      ]
    },
    {
      "cell_type": "code",
      "metadata": {
        "colab": {
          "base_uri": "https://localhost:8080/"
        },
        "id": "gkF-qlXiPEB4",
        "outputId": "0b34bffc-387a-41e3-e1a8-4f30e1e00400"
      },
      "source": [
        "dummy_clf = DummyClassifier(strategy='most_frequent')\r\n",
        "dummy_clf.fit(X_train_tfidf, y_train)\r\n",
        "y_pred = dummy_clf.predict(X_val_tfidf)\r\n",
        "print(classification_report(y_val, y_pred))"
      ],
      "execution_count": null,
      "outputs": [
        {
          "output_type": "stream",
          "text": [
            "              precision    recall  f1-score   support\n",
            "\n",
            "           1       0.00      0.00      0.00      4811\n",
            "           2       0.00      0.00      0.00      2699\n",
            "           3       0.00      0.00      0.00      5111\n",
            "           4       0.00      0.00      0.00      9323\n",
            "           5       0.51      1.00      0.67     22516\n",
            "\n",
            "    accuracy                           0.51     44460\n",
            "   macro avg       0.10      0.20      0.13     44460\n",
            "weighted avg       0.26      0.51      0.34     44460\n",
            "\n"
          ],
          "name": "stdout"
        },
        {
          "output_type": "stream",
          "text": [
            "/usr/local/lib/python3.6/dist-packages/sklearn/metrics/_classification.py:1272: UndefinedMetricWarning: Precision and F-score are ill-defined and being set to 0.0 in labels with no predicted samples. Use `zero_division` parameter to control this behavior.\n",
            "  _warn_prf(average, modifier, msg_start, len(result))\n"
          ],
          "name": "stderr"
        }
      ]
    },
    {
      "cell_type": "code",
      "metadata": {
        "colab": {
          "base_uri": "https://localhost:8080/"
        },
        "id": "X7i4p7oQMgtF",
        "outputId": "52fd6145-0fda-4e6f-ba99-d078f3f4d388"
      },
      "source": [
        "dummy_clf = DummyClassifier(strategy='stratified')\r\n",
        "dummy_clf.fit(X_train_tfidf, y_train)\r\n",
        "y_pred = dummy_clf.predict(X_val_tfidf)\r\n",
        "print(classification_report(y_val, y_pred))"
      ],
      "execution_count": null,
      "outputs": [
        {
          "output_type": "stream",
          "text": [
            "              precision    recall  f1-score   support\n",
            "\n",
            "           1       0.11      0.11      0.11      4811\n",
            "           2       0.06      0.06      0.06      2699\n",
            "           3       0.11      0.11      0.11      5111\n",
            "           4       0.21      0.21      0.21      9323\n",
            "           5       0.51      0.51      0.51     22516\n",
            "\n",
            "    accuracy                           0.33     44460\n",
            "   macro avg       0.20      0.20      0.20     44460\n",
            "weighted avg       0.33      0.33      0.33     44460\n",
            "\n"
          ],
          "name": "stdout"
        }
      ]
    },
    {
      "cell_type": "code",
      "metadata": {
        "colab": {
          "base_uri": "https://localhost:8080/"
        },
        "id": "gCJhiWtIOoa7",
        "outputId": "05fb7fbc-ca15-4e61-e5ea-03f41a5d22a1"
      },
      "source": [
        "dummy_clf = DummyClassifier(strategy='uniform')\r\n",
        "dummy_clf.fit(X_train_tfidf, y_train)\r\n",
        "y_pred = dummy_clf.predict(X_val_tfidf)\r\n",
        "print(classification_report(y_val, y_pred))"
      ],
      "execution_count": null,
      "outputs": [
        {
          "output_type": "stream",
          "text": [
            "              precision    recall  f1-score   support\n",
            "\n",
            "           1       0.11      0.20      0.14      4811\n",
            "           2       0.07      0.21      0.10      2699\n",
            "           3       0.12      0.20      0.15      5111\n",
            "           4       0.21      0.20      0.20      9323\n",
            "           5       0.51      0.20      0.29     22516\n",
            "\n",
            "    accuracy                           0.20     44460\n",
            "   macro avg       0.20      0.20      0.18     44460\n",
            "weighted avg       0.33      0.20      0.23     44460\n",
            "\n"
          ],
          "name": "stdout"
        }
      ]
    },
    {
      "cell_type": "code",
      "metadata": {
        "colab": {
          "base_uri": "https://localhost:8080/"
        },
        "id": "qSYLBp3gc3Jr",
        "outputId": "a264d82f-dfa4-47b9-a00a-32c8a16c7ea0"
      },
      "source": [
        "tree_clf = DecisionTreeClassifier()\r\n",
        "tree_clf.fit(X_train_tfidf, y_train)\r\n",
        "y_pred_tree = tree_clf.predict(X_val_tfidf)\r\n",
        "print(classification_report(y_val, y_pred_tree))"
      ],
      "execution_count": null,
      "outputs": [
        {
          "output_type": "stream",
          "text": [
            "              precision    recall  f1-score   support\n",
            "\n",
            "           1       0.49      0.50      0.50      4811\n",
            "           2       0.17      0.14      0.15      2699\n",
            "           3       0.30      0.28      0.29      5111\n",
            "           4       0.31      0.30      0.31      9323\n",
            "           5       0.69      0.72      0.70     22516\n",
            "\n",
            "    accuracy                           0.52     44460\n",
            "   macro avg       0.39      0.39      0.39     44460\n",
            "weighted avg       0.51      0.52      0.52     44460\n",
            "\n"
          ],
          "name": "stdout"
        }
      ]
    },
    {
      "cell_type": "code",
      "metadata": {
        "colab": {
          "base_uri": "https://localhost:8080/"
        },
        "id": "axp5agivf3tD",
        "outputId": "3ae43e36-d2f7-431b-f87a-30ac0a1dbb9a"
      },
      "source": [
        "svd = TruncatedSVD(n_components=750)\r\n",
        "X_train_tfidf_pca = svd.fit_transform(X_train_tfidf)\r\n",
        "X_val_tfidf_pca = svd.transform(X_val_tfidf)\r\n",
        "print(X_train_tfidf_pca.shape)\r\n",
        "print(sum(svd.explained_variance_ratio_))"
      ],
      "execution_count": null,
      "outputs": [
        {
          "output_type": "stream",
          "text": [
            "(400136, 750)\n",
            "0.38610525128398215\n"
          ],
          "name": "stdout"
        }
      ]
    },
    {
      "cell_type": "code",
      "metadata": {
        "colab": {
          "base_uri": "https://localhost:8080/"
        },
        "id": "_iPI9nsKj1l5",
        "outputId": "885ee6d1-a523-4617-c82a-5ae51a9de146"
      },
      "source": [
        "tree_clf2 = DecisionTreeClassifier()\r\n",
        "tree_clf2.fit(X_train_tfidf_pca, y_train)\r\n",
        "y_pred_tree2 = tree_clf2.predict(X_val_tfidf_pca)\r\n",
        "print(classification_report(y_val, y_pred_tree2))"
      ],
      "execution_count": null,
      "outputs": [
        {
          "output_type": "stream",
          "text": [
            "              precision    recall  f1-score   support\n",
            "\n",
            "           1       0.36      0.35      0.35      4811\n",
            "           2       0.13      0.13      0.13      2699\n",
            "           3       0.23      0.23      0.23      5111\n",
            "           4       0.27      0.27      0.27      9323\n",
            "           5       0.65      0.64      0.65     22516\n",
            "\n",
            "    accuracy                           0.46     44460\n",
            "   macro avg       0.33      0.33      0.33     44460\n",
            "weighted avg       0.46      0.46      0.46     44460\n",
            "\n"
          ],
          "name": "stdout"
        }
      ]
    },
    {
      "cell_type": "code",
      "metadata": {
        "colab": {
          "base_uri": "https://localhost:8080/"
        },
        "id": "J0svBl5Sz0yZ",
        "outputId": "fa208815-f87d-4cdb-d958-15e5e2d0dfd5"
      },
      "source": [
        "undersampler = RandomUnderSampler()\r\n",
        "X_train_tfidf_pca_res, y_train_res = undersampler.fit_resample(X_train_tfidf_pca, y_train)\r\n",
        "print(Counter(y_train_res))"
      ],
      "execution_count": null,
      "outputs": [
        {
          "output_type": "stream",
          "text": [
            "/usr/local/lib/python3.6/dist-packages/sklearn/utils/deprecation.py:87: FutureWarning: Function safe_indexing is deprecated; safe_indexing is deprecated in version 0.22 and will be removed in version 0.24.\n",
            "  warnings.warn(msg, category=FutureWarning)\n"
          ],
          "name": "stderr"
        },
        {
          "output_type": "stream",
          "text": [
            "Counter({1: 24289, 2: 24289, 3: 24289, 4: 24289, 5: 24289})\n"
          ],
          "name": "stdout"
        }
      ]
    },
    {
      "cell_type": "code",
      "metadata": {
        "colab": {
          "base_uri": "https://localhost:8080/"
        },
        "id": "fyG-LHXy00o0",
        "outputId": "c7ed4fbf-0adb-4cc1-a409-23024e230545"
      },
      "source": [
        "tree_clf3 = DecisionTreeClassifier()\r\n",
        "tree_clf3.fit(X_train_tfidf_pca_res, y_train_res)\r\n",
        "y_pred_tree3 = tree_clf3.predict(X_val_tfidf_pca)\r\n",
        "print(classification_report(y_val, y_pred_tree3))"
      ],
      "execution_count": null,
      "outputs": [
        {
          "output_type": "stream",
          "text": [
            "              precision    recall  f1-score   support\n",
            "\n",
            "           1       0.29      0.39      0.33      4811\n",
            "           2       0.10      0.27      0.15      2699\n",
            "           3       0.17      0.27      0.21      5111\n",
            "           4       0.26      0.29      0.28      9323\n",
            "           5       0.71      0.40      0.51     22516\n",
            "\n",
            "    accuracy                           0.35     44460\n",
            "   macro avg       0.31      0.32      0.30     44460\n",
            "weighted avg       0.47      0.35      0.39     44460\n",
            "\n"
          ],
          "name": "stdout"
        }
      ]
    },
    {
      "cell_type": "code",
      "metadata": {
        "colab": {
          "base_uri": "https://localhost:8080/"
        },
        "id": "E53vyWJSVrZB",
        "outputId": "ccdf3758-2e07-4c64-f6bf-35ecaa125bcc"
      },
      "source": [
        "undersampler = RandomUnderSampler(random_state=42)\r\n",
        "\r\n",
        "X_train_res, y_train_res = undersampler.fit_resample(X_train, y_train)\r\n",
        "print(type(X_train_res[0]))\r\n",
        "print(X_train_res[:,0])\r\n",
        "X_train_tfidf_res = tfidf.transform([' '.join(words) for words in X_train_res[:, 0]])\r\n",
        "\r\n",
        "# X_train_tfidf_res, y_train_res = undersampler.fit_resample(X_train_tfidf, y_train)\r\n",
        "print(Counter(y_train_res))"
      ],
      "execution_count": null,
      "outputs": [
        {
          "output_type": "stream",
          "text": [
            "/usr/local/lib/python3.6/dist-packages/sklearn/utils/deprecation.py:87: FutureWarning: Function safe_indexing is deprecated; safe_indexing is deprecated in version 0.22 and will be removed in version 0.24.\n",
            "  warnings.warn(msg, category=FutureWarning)\n"
          ],
          "name": "stderr"
        },
        {
          "output_type": "stream",
          "text": [
            "<class 'numpy.ndarray'>\n",
            "[list(['think', 'app', 'tri', 'rude', 'tutori', 'confusingi', 'tri', 'play', 'app', 'wow', 'blew', 'mind', 'stupid', 'game'])\n",
            " list(['realli', 'maker', 'app', 'realli', 'think', 'get', 'away', 'copi', 'fruit', 'ninaj', 'dont', 'get', 'app', 'suppos', 'su', 'tri', 'copi', 'fruit', 'ninja'])\n",
            " list(['app', 'joke', 'obvious', 'realiz', 'would', 'good', 'true', 'oh', 'well', 'worth', 'shot', 'poor'])\n",
            " ...\n",
            " list(['omg', 'love', 'app', 'much', 'use', 'onlin', 'want', 'see', 'app', 'stoke', 'amz', 'must', 'get', 'addict'])\n",
            " list(['love', 'angri', 'bird', 'game', 'much', 'ten', 'year', 'old', 'son', 'game', 'differ', 'hope', 'enjoy', 'angri', 'bird', 'finat'])\n",
            " list(['fun', 'playgreat', 'graphicsrememb', 'old', 'comput', 'gamethi', 'way', 'bettergood', 'joblov', 'itwish', 'time', 'playfun', 'good', 'time', 'great', 'game'])]\n",
            "Counter({1: 24289, 2: 24289, 3: 24289, 4: 24289, 5: 24289})\n"
          ],
          "name": "stdout"
        }
      ]
    },
    {
      "cell_type": "code",
      "metadata": {
        "colab": {
          "base_uri": "https://localhost:8080/"
        },
        "id": "0sRT_V8I_ljU",
        "outputId": "b22f3e63-11e6-465b-a573-7380b0f840bb"
      },
      "source": [
        "tree_clf4 = DecisionTreeClassifier()\r\n",
        "tree_clf4.fit(X_train_tfidf_res, y_train_res)\r\n",
        "y_pred_tree4 = tree_clf4.predict(X_val_tfidf)\r\n",
        "print(classification_report(y_val, y_pred_tree4))"
      ],
      "execution_count": null,
      "outputs": [
        {
          "output_type": "stream",
          "text": [
            "              precision    recall  f1-score   support\n",
            "\n",
            "           1       0.41      0.48      0.44      4811\n",
            "           2       0.14      0.31      0.19      2699\n",
            "           3       0.23      0.32      0.26      5111\n",
            "           4       0.30      0.35      0.32      9323\n",
            "           5       0.75      0.49      0.59     22516\n",
            "\n",
            "    accuracy                           0.43     44460\n",
            "   macro avg       0.36      0.39      0.36     44460\n",
            "weighted avg       0.52      0.43      0.46     44460\n",
            "\n"
          ],
          "name": "stdout"
        }
      ]
    },
    {
      "cell_type": "code",
      "metadata": {
        "colab": {
          "base_uri": "https://localhost:8080/"
        },
        "id": "vBsnAmv4DuXo",
        "outputId": "cff79b1e-d92f-4e81-ee73-887da2216b7a"
      },
      "source": [
        "alphas = [0.001, 0.01, 0.1, 1, 2, 5, 10, 20, 30, 50, 100]\r\n",
        "print('TFIDF IMBALANCED')\r\n",
        "for alpha in alphas:\r\n",
        "  print(f'alpha={alpha}')\r\n",
        "  nb_clf = MultinomialNB(alpha=alpha)\r\n",
        "  nb_clf.fit(X_train_tfidf, y_train)\r\n",
        "  print(classification_report(y_val, nb_clf.predict(X_val_tfidf)))\r\n",
        "\r\n",
        "print('TFIDF UNDERSAMPLED')\r\n",
        "for alpha in alphas:\r\n",
        "  print(f'alpha={alpha}')\r\n",
        "  nb_clf = MultinomialNB(alpha=alpha)\r\n",
        "  nb_clf.fit(X_train_tfidf_res, y_train_res)\r\n",
        "  print(classification_report(y_val, nb_clf.predict(X_val_tfidf)))"
      ],
      "execution_count": null,
      "outputs": [
        {
          "output_type": "stream",
          "text": [
            "TFIDF IMBALANCED\n",
            "alpha=0.001\n",
            "              precision    recall  f1-score   support\n",
            "\n",
            "           1       0.61      0.66      0.63      4811\n",
            "           2       0.36      0.08      0.13      2699\n",
            "           3       0.46      0.27      0.34      5111\n",
            "           4       0.47      0.25      0.33      9323\n",
            "           5       0.68      0.92      0.78     22516\n",
            "\n",
            "    accuracy                           0.63     44460\n",
            "   macro avg       0.51      0.44      0.44     44460\n",
            "weighted avg       0.58      0.63      0.58     44460\n",
            "\n",
            "alpha=0.01\n",
            "              precision    recall  f1-score   support\n",
            "\n",
            "           1       0.61      0.66      0.63      4811\n",
            "           2       0.36      0.08      0.13      2699\n",
            "           3       0.46      0.27      0.34      5111\n",
            "           4       0.47      0.25      0.33      9323\n",
            "           5       0.68      0.92      0.78     22516\n",
            "\n",
            "    accuracy                           0.63     44460\n",
            "   macro avg       0.51      0.44      0.44     44460\n",
            "weighted avg       0.58      0.63      0.58     44460\n",
            "\n",
            "alpha=0.1\n",
            "              precision    recall  f1-score   support\n",
            "\n",
            "           1       0.60      0.67      0.63      4811\n",
            "           2       0.37      0.08      0.13      2699\n",
            "           3       0.46      0.27      0.34      5111\n",
            "           4       0.47      0.25      0.33      9323\n",
            "           5       0.68      0.92      0.78     22516\n",
            "\n",
            "    accuracy                           0.63     44460\n",
            "   macro avg       0.52      0.44      0.44     44460\n",
            "weighted avg       0.58      0.63      0.58     44460\n",
            "\n",
            "alpha=1\n",
            "              precision    recall  f1-score   support\n",
            "\n",
            "           1       0.60      0.68      0.64      4811\n",
            "           2       0.42      0.03      0.06      2699\n",
            "           3       0.47      0.26      0.33      5111\n",
            "           4       0.47      0.24      0.32      9323\n",
            "           5       0.67      0.93      0.78     22516\n",
            "\n",
            "    accuracy                           0.62     44460\n",
            "   macro avg       0.53      0.43      0.42     44460\n",
            "weighted avg       0.58      0.62      0.57     44460\n",
            "\n",
            "alpha=2\n",
            "              precision    recall  f1-score   support\n",
            "\n",
            "           1       0.61      0.66      0.64      4811\n",
            "           2       0.48      0.01      0.02      2699\n",
            "           3       0.48      0.23      0.31      5111\n",
            "           4       0.46      0.22      0.30      9323\n",
            "           5       0.66      0.94      0.77     22516\n",
            "\n",
            "    accuracy                           0.62     44460\n",
            "   macro avg       0.54      0.41      0.41     44460\n",
            "weighted avg       0.58      0.62      0.56     44460\n",
            "\n",
            "alpha=5\n",
            "              precision    recall  f1-score   support\n",
            "\n",
            "           1       0.66      0.58      0.62      4811\n",
            "           2       0.43      0.00      0.00      2699\n",
            "           3       0.52      0.14      0.22      5111\n",
            "           4       0.44      0.16      0.23      9323\n",
            "           5       0.62      0.97      0.75     22516\n",
            "\n",
            "    accuracy                           0.60     44460\n",
            "   macro avg       0.53      0.37      0.37     44460\n",
            "weighted avg       0.56      0.60      0.52     44460\n",
            "\n",
            "alpha=10\n"
          ],
          "name": "stdout"
        },
        {
          "output_type": "stream",
          "text": [
            "/usr/local/lib/python3.6/dist-packages/sklearn/metrics/_classification.py:1272: UndefinedMetricWarning: Precision and F-score are ill-defined and being set to 0.0 in labels with no predicted samples. Use `zero_division` parameter to control this behavior.\n",
            "  _warn_prf(average, modifier, msg_start, len(result))\n"
          ],
          "name": "stderr"
        },
        {
          "output_type": "stream",
          "text": [
            "              precision    recall  f1-score   support\n",
            "\n",
            "           1       0.73      0.43      0.54      4811\n",
            "           2       0.00      0.00      0.00      2699\n",
            "           3       0.58      0.06      0.12      5111\n",
            "           4       0.39      0.07      0.12      9323\n",
            "           5       0.57      0.99      0.72     22516\n",
            "\n",
            "    accuracy                           0.57     44460\n",
            "   macro avg       0.46      0.31      0.30     44460\n",
            "weighted avg       0.52      0.57      0.46     44460\n",
            "\n",
            "alpha=20\n"
          ],
          "name": "stdout"
        },
        {
          "output_type": "stream",
          "text": [
            "/usr/local/lib/python3.6/dist-packages/sklearn/metrics/_classification.py:1272: UndefinedMetricWarning: Precision and F-score are ill-defined and being set to 0.0 in labels with no predicted samples. Use `zero_division` parameter to control this behavior.\n",
            "  _warn_prf(average, modifier, msg_start, len(result))\n"
          ],
          "name": "stderr"
        },
        {
          "output_type": "stream",
          "text": [
            "              precision    recall  f1-score   support\n",
            "\n",
            "           1       0.83      0.20      0.32      4811\n",
            "           2       0.00      0.00      0.00      2699\n",
            "           3       0.69      0.02      0.04      5111\n",
            "           4       0.45      0.01      0.03      9323\n",
            "           5       0.53      1.00      0.69     22516\n",
            "\n",
            "    accuracy                           0.53     44460\n",
            "   macro avg       0.50      0.25      0.22     44460\n",
            "weighted avg       0.53      0.53      0.39     44460\n",
            "\n",
            "alpha=30\n"
          ],
          "name": "stdout"
        },
        {
          "output_type": "stream",
          "text": [
            "/usr/local/lib/python3.6/dist-packages/sklearn/metrics/_classification.py:1272: UndefinedMetricWarning: Precision and F-score are ill-defined and being set to 0.0 in labels with no predicted samples. Use `zero_division` parameter to control this behavior.\n",
            "  _warn_prf(average, modifier, msg_start, len(result))\n"
          ],
          "name": "stderr"
        },
        {
          "output_type": "stream",
          "text": [
            "              precision    recall  f1-score   support\n",
            "\n",
            "           1       0.89      0.10      0.18      4811\n",
            "           2       0.00      0.00      0.00      2699\n",
            "           3       0.79      0.01      0.02      5111\n",
            "           4       0.57      0.00      0.01      9323\n",
            "           5       0.51      1.00      0.68     22516\n",
            "\n",
            "    accuracy                           0.52     44460\n",
            "   macro avg       0.55      0.22      0.18     44460\n",
            "weighted avg       0.57      0.52      0.37     44460\n",
            "\n",
            "alpha=50\n"
          ],
          "name": "stdout"
        },
        {
          "output_type": "stream",
          "text": [
            "/usr/local/lib/python3.6/dist-packages/sklearn/metrics/_classification.py:1272: UndefinedMetricWarning: Precision and F-score are ill-defined and being set to 0.0 in labels with no predicted samples. Use `zero_division` parameter to control this behavior.\n",
            "  _warn_prf(average, modifier, msg_start, len(result))\n"
          ],
          "name": "stderr"
        },
        {
          "output_type": "stream",
          "text": [
            "              precision    recall  f1-score   support\n",
            "\n",
            "           1       0.95      0.03      0.06      4811\n",
            "           2       0.00      0.00      0.00      2699\n",
            "           3       0.71      0.00      0.00      5111\n",
            "           4       1.00      0.00      0.00      9323\n",
            "           5       0.51      1.00      0.67     22516\n",
            "\n",
            "    accuracy                           0.51     44460\n",
            "   macro avg       0.63      0.21      0.15     44460\n",
            "weighted avg       0.65      0.51      0.35     44460\n",
            "\n",
            "alpha=100\n"
          ],
          "name": "stdout"
        },
        {
          "output_type": "stream",
          "text": [
            "/usr/local/lib/python3.6/dist-packages/sklearn/metrics/_classification.py:1272: UndefinedMetricWarning: Precision and F-score are ill-defined and being set to 0.0 in labels with no predicted samples. Use `zero_division` parameter to control this behavior.\n",
            "  _warn_prf(average, modifier, msg_start, len(result))\n"
          ],
          "name": "stderr"
        },
        {
          "output_type": "stream",
          "text": [
            "              precision    recall  f1-score   support\n",
            "\n",
            "           1       0.90      0.00      0.00      4811\n",
            "           2       0.00      0.00      0.00      2699\n",
            "           3       1.00      0.00      0.00      5111\n",
            "           4       0.00      0.00      0.00      9323\n",
            "           5       0.51      1.00      0.67     22516\n",
            "\n",
            "    accuracy                           0.51     44460\n",
            "   macro avg       0.48      0.20      0.14     44460\n",
            "weighted avg       0.47      0.51      0.34     44460\n",
            "\n",
            "TFIDF UNDERSAMPLED\n",
            "alpha=0.001\n",
            "              precision    recall  f1-score   support\n",
            "\n",
            "           1       0.53      0.62      0.57      4811\n",
            "           2       0.22      0.41      0.29      2699\n",
            "           3       0.33      0.37      0.35      5111\n",
            "           4       0.37      0.45      0.40      9323\n",
            "           5       0.82      0.61      0.70     22516\n",
            "\n",
            "    accuracy                           0.54     44460\n",
            "   macro avg       0.45      0.49      0.46     44460\n",
            "weighted avg       0.60      0.54      0.56     44460\n",
            "\n",
            "alpha=0.01\n",
            "              precision    recall  f1-score   support\n",
            "\n",
            "           1       0.53      0.62      0.57      4811\n",
            "           2       0.22      0.41      0.29      2699\n",
            "           3       0.33      0.37      0.35      5111\n",
            "           4       0.37      0.45      0.41      9323\n",
            "           5       0.82      0.61      0.70     22516\n",
            "\n",
            "    accuracy                           0.54     44460\n",
            "   macro avg       0.45      0.49      0.46     44460\n",
            "weighted avg       0.60      0.54      0.56     44460\n",
            "\n",
            "alpha=0.1\n",
            "              precision    recall  f1-score   support\n",
            "\n",
            "           1       0.53      0.64      0.58      4811\n",
            "           2       0.22      0.41      0.29      2699\n",
            "           3       0.34      0.37      0.35      5111\n",
            "           4       0.38      0.45      0.41      9323\n",
            "           5       0.82      0.62      0.70     22516\n",
            "\n",
            "    accuracy                           0.54     44460\n",
            "   macro avg       0.46      0.50      0.47     44460\n",
            "weighted avg       0.60      0.54      0.56     44460\n",
            "\n",
            "alpha=1\n",
            "              precision    recall  f1-score   support\n",
            "\n",
            "           1       0.51      0.66      0.58      4811\n",
            "           2       0.22      0.41      0.29      2699\n",
            "           3       0.35      0.37      0.36      5111\n",
            "           4       0.39      0.45      0.42      9323\n",
            "           5       0.83      0.62      0.71     22516\n",
            "\n",
            "    accuracy                           0.55     44460\n",
            "   macro avg       0.46      0.50      0.47     44460\n",
            "weighted avg       0.61      0.55      0.57     44460\n",
            "\n",
            "alpha=2\n",
            "              precision    recall  f1-score   support\n",
            "\n",
            "           1       0.51      0.67      0.58      4811\n",
            "           2       0.22      0.41      0.29      2699\n",
            "           3       0.36      0.37      0.37      5111\n",
            "           4       0.39      0.46      0.42      9323\n",
            "           5       0.83      0.62      0.71     22516\n",
            "\n",
            "    accuracy                           0.55     44460\n",
            "   macro avg       0.46      0.51      0.47     44460\n",
            "weighted avg       0.61      0.55      0.57     44460\n",
            "\n",
            "alpha=5\n",
            "              precision    recall  f1-score   support\n",
            "\n",
            "           1       0.51      0.67      0.58      4811\n",
            "           2       0.22      0.43      0.29      2699\n",
            "           3       0.38      0.36      0.37      5111\n",
            "           4       0.39      0.48      0.43      9323\n",
            "           5       0.83      0.62      0.71     22516\n",
            "\n",
            "    accuracy                           0.55     44460\n",
            "   macro avg       0.47      0.51      0.48     44460\n",
            "weighted avg       0.62      0.55      0.57     44460\n",
            "\n",
            "alpha=10\n",
            "              precision    recall  f1-score   support\n",
            "\n",
            "           1       0.51      0.67      0.58      4811\n",
            "           2       0.23      0.44      0.30      2699\n",
            "           3       0.39      0.36      0.37      5111\n",
            "           4       0.39      0.49      0.44      9323\n",
            "           5       0.84      0.61      0.71     22516\n",
            "\n",
            "    accuracy                           0.55     44460\n",
            "   macro avg       0.47      0.51      0.48     44460\n",
            "weighted avg       0.62      0.55      0.57     44460\n",
            "\n",
            "alpha=20\n",
            "              precision    recall  f1-score   support\n",
            "\n",
            "           1       0.51      0.66      0.57      4811\n",
            "           2       0.23      0.44      0.30      2699\n",
            "           3       0.40      0.35      0.37      5111\n",
            "           4       0.39      0.51      0.44      9323\n",
            "           5       0.84      0.61      0.70     22516\n",
            "\n",
            "    accuracy                           0.55     44460\n",
            "   macro avg       0.47      0.51      0.48     44460\n",
            "weighted avg       0.62      0.55      0.57     44460\n",
            "\n",
            "alpha=30\n",
            "              precision    recall  f1-score   support\n",
            "\n",
            "           1       0.50      0.66      0.57      4811\n",
            "           2       0.22      0.43      0.30      2699\n",
            "           3       0.41      0.35      0.38      5111\n",
            "           4       0.39      0.52      0.44      9323\n",
            "           5       0.84      0.60      0.70     22516\n",
            "\n",
            "    accuracy                           0.55     44460\n",
            "   macro avg       0.47      0.51      0.48     44460\n",
            "weighted avg       0.62      0.55      0.57     44460\n",
            "\n",
            "alpha=50\n",
            "              precision    recall  f1-score   support\n",
            "\n",
            "           1       0.50      0.67      0.57      4811\n",
            "           2       0.23      0.42      0.29      2699\n",
            "           3       0.42      0.34      0.37      5111\n",
            "           4       0.39      0.53      0.45      9323\n",
            "           5       0.84      0.60      0.70     22516\n",
            "\n",
            "    accuracy                           0.55     44460\n",
            "   macro avg       0.47      0.51      0.48     44460\n",
            "weighted avg       0.62      0.55      0.57     44460\n",
            "\n",
            "alpha=100\n",
            "              precision    recall  f1-score   support\n",
            "\n",
            "           1       0.49      0.67      0.57      4811\n",
            "           2       0.23      0.40      0.29      2699\n",
            "           3       0.43      0.32      0.37      5111\n",
            "           4       0.38      0.54      0.45      9323\n",
            "           5       0.83      0.60      0.70     22516\n",
            "\n",
            "    accuracy                           0.55     44460\n",
            "   macro avg       0.47      0.51      0.47     44460\n",
            "weighted avg       0.62      0.55      0.57     44460\n",
            "\n"
          ],
          "name": "stdout"
        }
      ]
    },
    {
      "cell_type": "code",
      "metadata": {
        "colab": {
          "base_uri": "https://localhost:8080/"
        },
        "id": "iDbhLj-VGg2L",
        "outputId": "5736696e-4c46-4477-b0f9-715a5b1aaa6c"
      },
      "source": [
        "Cs = [0.001, 0.01, 0.1, 1, 2, 5, 10, 20, 30, 50, 100]\r\n",
        "print('TFIDF IMBALANCED')\r\n",
        "for C in Cs:\r\n",
        "  print(f'C={C}')\r\n",
        "  lr_clf = LogisticRegression(C=C)\r\n",
        "  lr_clf.fit(X_train_tfidf, y_train)\r\n",
        "  print(classification_report(y_val, lr_clf.predict(X_val_tfidf)))"
      ],
      "execution_count": null,
      "outputs": [
        {
          "output_type": "stream",
          "text": [
            "TFIDF IMBALANCED\n",
            "C=0.001\n"
          ],
          "name": "stdout"
        },
        {
          "output_type": "stream",
          "text": [
            "/usr/local/lib/python3.6/dist-packages/sklearn/metrics/_classification.py:1272: UndefinedMetricWarning: Precision and F-score are ill-defined and being set to 0.0 in labels with no predicted samples. Use `zero_division` parameter to control this behavior.\n",
            "  _warn_prf(average, modifier, msg_start, len(result))\n"
          ],
          "name": "stderr"
        },
        {
          "output_type": "stream",
          "text": [
            "              precision    recall  f1-score   support\n",
            "\n",
            "           1       0.00      0.00      0.00      4811\n",
            "           2       0.00      0.00      0.00      2699\n",
            "           3       0.50      0.00      0.00      5111\n",
            "           4       0.33      0.00      0.00      9323\n",
            "           5       0.51      1.00      0.67     22516\n",
            "\n",
            "    accuracy                           0.51     44460\n",
            "   macro avg       0.27      0.20      0.13     44460\n",
            "weighted avg       0.38      0.51      0.34     44460\n",
            "\n",
            "C=0.01\n"
          ],
          "name": "stdout"
        },
        {
          "output_type": "stream",
          "text": [
            "/usr/local/lib/python3.6/dist-packages/sklearn/linear_model/_logistic.py:940: ConvergenceWarning: lbfgs failed to converge (status=1):\n",
            "STOP: TOTAL NO. of ITERATIONS REACHED LIMIT.\n",
            "\n",
            "Increase the number of iterations (max_iter) or scale the data as shown in:\n",
            "    https://scikit-learn.org/stable/modules/preprocessing.html\n",
            "Please also refer to the documentation for alternative solver options:\n",
            "    https://scikit-learn.org/stable/modules/linear_model.html#logistic-regression\n",
            "  extra_warning_msg=_LOGISTIC_SOLVER_CONVERGENCE_MSG)\n",
            "/usr/local/lib/python3.6/dist-packages/sklearn/metrics/_classification.py:1272: UndefinedMetricWarning: Precision and F-score are ill-defined and being set to 0.0 in labels with no predicted samples. Use `zero_division` parameter to control this behavior.\n",
            "  _warn_prf(average, modifier, msg_start, len(result))\n"
          ],
          "name": "stderr"
        },
        {
          "output_type": "stream",
          "text": [
            "              precision    recall  f1-score   support\n",
            "\n",
            "           1       0.68      0.50      0.58      4811\n",
            "           2       0.00      0.00      0.00      2699\n",
            "           3       0.58      0.17      0.26      5111\n",
            "           4       0.45      0.16      0.24      9323\n",
            "           5       0.60      0.97      0.74     22516\n",
            "\n",
            "    accuracy                           0.60     44460\n",
            "   macro avg       0.46      0.36      0.36     44460\n",
            "weighted avg       0.54      0.60      0.52     44460\n",
            "\n",
            "C=0.1\n"
          ],
          "name": "stdout"
        },
        {
          "output_type": "stream",
          "text": [
            "/usr/local/lib/python3.6/dist-packages/sklearn/linear_model/_logistic.py:940: ConvergenceWarning: lbfgs failed to converge (status=1):\n",
            "STOP: TOTAL NO. of ITERATIONS REACHED LIMIT.\n",
            "\n",
            "Increase the number of iterations (max_iter) or scale the data as shown in:\n",
            "    https://scikit-learn.org/stable/modules/preprocessing.html\n",
            "Please also refer to the documentation for alternative solver options:\n",
            "    https://scikit-learn.org/stable/modules/linear_model.html#logistic-regression\n",
            "  extra_warning_msg=_LOGISTIC_SOLVER_CONVERGENCE_MSG)\n"
          ],
          "name": "stderr"
        },
        {
          "output_type": "stream",
          "text": [
            "              precision    recall  f1-score   support\n",
            "\n",
            "           1       0.63      0.71      0.67      4811\n",
            "           2       0.40      0.06      0.11      2699\n",
            "           3       0.49      0.31      0.38      5111\n",
            "           4       0.48      0.29      0.36      9323\n",
            "           5       0.70      0.92      0.79     22516\n",
            "\n",
            "    accuracy                           0.64     44460\n",
            "   macro avg       0.54      0.46      0.46     44460\n",
            "weighted avg       0.60      0.64      0.60     44460\n",
            "\n",
            "C=1\n"
          ],
          "name": "stdout"
        },
        {
          "output_type": "stream",
          "text": [
            "/usr/local/lib/python3.6/dist-packages/sklearn/linear_model/_logistic.py:940: ConvergenceWarning: lbfgs failed to converge (status=1):\n",
            "STOP: TOTAL NO. of ITERATIONS REACHED LIMIT.\n",
            "\n",
            "Increase the number of iterations (max_iter) or scale the data as shown in:\n",
            "    https://scikit-learn.org/stable/modules/preprocessing.html\n",
            "Please also refer to the documentation for alternative solver options:\n",
            "    https://scikit-learn.org/stable/modules/linear_model.html#logistic-regression\n",
            "  extra_warning_msg=_LOGISTIC_SOLVER_CONVERGENCE_MSG)\n"
          ],
          "name": "stderr"
        },
        {
          "output_type": "stream",
          "text": [
            "              precision    recall  f1-score   support\n",
            "\n",
            "           1       0.62      0.73      0.67      4811\n",
            "           2       0.35      0.14      0.20      2699\n",
            "           3       0.48      0.33      0.39      5111\n",
            "           4       0.47      0.33      0.39      9323\n",
            "           5       0.73      0.89      0.80     22516\n",
            "\n",
            "    accuracy                           0.64     44460\n",
            "   macro avg       0.53      0.48      0.49     44460\n",
            "weighted avg       0.61      0.64      0.61     44460\n",
            "\n",
            "C=2\n"
          ],
          "name": "stdout"
        },
        {
          "output_type": "stream",
          "text": [
            "/usr/local/lib/python3.6/dist-packages/sklearn/linear_model/_logistic.py:940: ConvergenceWarning: lbfgs failed to converge (status=1):\n",
            "STOP: TOTAL NO. of ITERATIONS REACHED LIMIT.\n",
            "\n",
            "Increase the number of iterations (max_iter) or scale the data as shown in:\n",
            "    https://scikit-learn.org/stable/modules/preprocessing.html\n",
            "Please also refer to the documentation for alternative solver options:\n",
            "    https://scikit-learn.org/stable/modules/linear_model.html#logistic-regression\n",
            "  extra_warning_msg=_LOGISTIC_SOLVER_CONVERGENCE_MSG)\n"
          ],
          "name": "stderr"
        },
        {
          "output_type": "stream",
          "text": [
            "              precision    recall  f1-score   support\n",
            "\n",
            "           1       0.64      0.71      0.67      4811\n",
            "           2       0.35      0.19      0.24      2699\n",
            "           3       0.46      0.35      0.40      5111\n",
            "           4       0.46      0.34      0.39      9323\n",
            "           5       0.74      0.88      0.80     22516\n",
            "\n",
            "    accuracy                           0.65     44460\n",
            "   macro avg       0.53      0.49      0.50     44460\n",
            "weighted avg       0.61      0.65      0.62     44460\n",
            "\n",
            "C=5\n"
          ],
          "name": "stdout"
        },
        {
          "output_type": "stream",
          "text": [
            "/usr/local/lib/python3.6/dist-packages/sklearn/linear_model/_logistic.py:940: ConvergenceWarning: lbfgs failed to converge (status=1):\n",
            "STOP: TOTAL NO. of ITERATIONS REACHED LIMIT.\n",
            "\n",
            "Increase the number of iterations (max_iter) or scale the data as shown in:\n",
            "    https://scikit-learn.org/stable/modules/preprocessing.html\n",
            "Please also refer to the documentation for alternative solver options:\n",
            "    https://scikit-learn.org/stable/modules/linear_model.html#logistic-regression\n",
            "  extra_warning_msg=_LOGISTIC_SOLVER_CONVERGENCE_MSG)\n"
          ],
          "name": "stderr"
        },
        {
          "output_type": "stream",
          "text": [
            "              precision    recall  f1-score   support\n",
            "\n",
            "           1       0.62      0.73      0.67      4811\n",
            "           2       0.35      0.14      0.20      2699\n",
            "           3       0.43      0.39      0.41      5111\n",
            "           4       0.47      0.32      0.38      9323\n",
            "           5       0.74      0.88      0.80     22516\n",
            "\n",
            "    accuracy                           0.64     44460\n",
            "   macro avg       0.52      0.49      0.49     44460\n",
            "weighted avg       0.61      0.64      0.62     44460\n",
            "\n",
            "C=10\n"
          ],
          "name": "stdout"
        },
        {
          "output_type": "stream",
          "text": [
            "/usr/local/lib/python3.6/dist-packages/sklearn/linear_model/_logistic.py:940: ConvergenceWarning: lbfgs failed to converge (status=1):\n",
            "STOP: TOTAL NO. of ITERATIONS REACHED LIMIT.\n",
            "\n",
            "Increase the number of iterations (max_iter) or scale the data as shown in:\n",
            "    https://scikit-learn.org/stable/modules/preprocessing.html\n",
            "Please also refer to the documentation for alternative solver options:\n",
            "    https://scikit-learn.org/stable/modules/linear_model.html#logistic-regression\n",
            "  extra_warning_msg=_LOGISTIC_SOLVER_CONVERGENCE_MSG)\n"
          ],
          "name": "stderr"
        },
        {
          "output_type": "stream",
          "text": [
            "              precision    recall  f1-score   support\n",
            "\n",
            "           1       0.63      0.71      0.67      4811\n",
            "           2       0.33      0.17      0.23      2699\n",
            "           3       0.45      0.35      0.39      5111\n",
            "           4       0.46      0.34      0.39      9323\n",
            "           5       0.74      0.87      0.80     22516\n",
            "\n",
            "    accuracy                           0.64     44460\n",
            "   macro avg       0.52      0.49      0.49     44460\n",
            "weighted avg       0.61      0.64      0.62     44460\n",
            "\n",
            "C=20\n"
          ],
          "name": "stdout"
        },
        {
          "output_type": "stream",
          "text": [
            "/usr/local/lib/python3.6/dist-packages/sklearn/linear_model/_logistic.py:940: ConvergenceWarning: lbfgs failed to converge (status=1):\n",
            "STOP: TOTAL NO. of ITERATIONS REACHED LIMIT.\n",
            "\n",
            "Increase the number of iterations (max_iter) or scale the data as shown in:\n",
            "    https://scikit-learn.org/stable/modules/preprocessing.html\n",
            "Please also refer to the documentation for alternative solver options:\n",
            "    https://scikit-learn.org/stable/modules/linear_model.html#logistic-regression\n",
            "  extra_warning_msg=_LOGISTIC_SOLVER_CONVERGENCE_MSG)\n"
          ],
          "name": "stderr"
        },
        {
          "output_type": "stream",
          "text": [
            "              precision    recall  f1-score   support\n",
            "\n",
            "           1       0.62      0.72      0.67      4811\n",
            "           2       0.34      0.17      0.22      2699\n",
            "           3       0.45      0.35      0.40      5111\n",
            "           4       0.47      0.34      0.40      9323\n",
            "           5       0.74      0.88      0.80     22516\n",
            "\n",
            "    accuracy                           0.64     44460\n",
            "   macro avg       0.52      0.49      0.50     44460\n",
            "weighted avg       0.61      0.64      0.62     44460\n",
            "\n",
            "C=30\n"
          ],
          "name": "stdout"
        },
        {
          "output_type": "stream",
          "text": [
            "/usr/local/lib/python3.6/dist-packages/sklearn/linear_model/_logistic.py:940: ConvergenceWarning: lbfgs failed to converge (status=1):\n",
            "STOP: TOTAL NO. of ITERATIONS REACHED LIMIT.\n",
            "\n",
            "Increase the number of iterations (max_iter) or scale the data as shown in:\n",
            "    https://scikit-learn.org/stable/modules/preprocessing.html\n",
            "Please also refer to the documentation for alternative solver options:\n",
            "    https://scikit-learn.org/stable/modules/linear_model.html#logistic-regression\n",
            "  extra_warning_msg=_LOGISTIC_SOLVER_CONVERGENCE_MSG)\n"
          ],
          "name": "stderr"
        },
        {
          "output_type": "stream",
          "text": [
            "              precision    recall  f1-score   support\n",
            "\n",
            "           1       0.63      0.71      0.67      4811\n",
            "           2       0.34      0.17      0.23      2699\n",
            "           3       0.45      0.35      0.40      5111\n",
            "           4       0.45      0.34      0.39      9323\n",
            "           5       0.74      0.87      0.80     22516\n",
            "\n",
            "    accuracy                           0.64     44460\n",
            "   macro avg       0.52      0.49      0.50     44460\n",
            "weighted avg       0.61      0.64      0.62     44460\n",
            "\n",
            "C=50\n"
          ],
          "name": "stdout"
        },
        {
          "output_type": "stream",
          "text": [
            "/usr/local/lib/python3.6/dist-packages/sklearn/linear_model/_logistic.py:940: ConvergenceWarning: lbfgs failed to converge (status=1):\n",
            "STOP: TOTAL NO. of ITERATIONS REACHED LIMIT.\n",
            "\n",
            "Increase the number of iterations (max_iter) or scale the data as shown in:\n",
            "    https://scikit-learn.org/stable/modules/preprocessing.html\n",
            "Please also refer to the documentation for alternative solver options:\n",
            "    https://scikit-learn.org/stable/modules/linear_model.html#logistic-regression\n",
            "  extra_warning_msg=_LOGISTIC_SOLVER_CONVERGENCE_MSG)\n"
          ],
          "name": "stderr"
        },
        {
          "output_type": "stream",
          "text": [
            "              precision    recall  f1-score   support\n",
            "\n",
            "           1       0.63      0.72      0.67      4811\n",
            "           2       0.34      0.16      0.22      2699\n",
            "           3       0.45      0.36      0.40      5111\n",
            "           4       0.46      0.35      0.40      9323\n",
            "           5       0.74      0.87      0.80     22516\n",
            "\n",
            "    accuracy                           0.64     44460\n",
            "   macro avg       0.52      0.49      0.50     44460\n",
            "weighted avg       0.61      0.64      0.62     44460\n",
            "\n",
            "C=100\n",
            "              precision    recall  f1-score   support\n",
            "\n",
            "           1       0.65      0.69      0.67      4811\n",
            "           2       0.35      0.17      0.23      2699\n",
            "           3       0.44      0.37      0.40      5111\n",
            "           4       0.46      0.33      0.38      9323\n",
            "           5       0.73      0.88      0.80     22516\n",
            "\n",
            "    accuracy                           0.64     44460\n",
            "   macro avg       0.53      0.49      0.50     44460\n",
            "weighted avg       0.61      0.64      0.62     44460\n",
            "\n"
          ],
          "name": "stdout"
        },
        {
          "output_type": "stream",
          "text": [
            "/usr/local/lib/python3.6/dist-packages/sklearn/linear_model/_logistic.py:940: ConvergenceWarning: lbfgs failed to converge (status=1):\n",
            "STOP: TOTAL NO. of ITERATIONS REACHED LIMIT.\n",
            "\n",
            "Increase the number of iterations (max_iter) or scale the data as shown in:\n",
            "    https://scikit-learn.org/stable/modules/preprocessing.html\n",
            "Please also refer to the documentation for alternative solver options:\n",
            "    https://scikit-learn.org/stable/modules/linear_model.html#logistic-regression\n",
            "  extra_warning_msg=_LOGISTIC_SOLVER_CONVERGENCE_MSG)\n"
          ],
          "name": "stderr"
        }
      ]
    },
    {
      "cell_type": "code",
      "metadata": {
        "colab": {
          "base_uri": "https://localhost:8080/"
        },
        "id": "tYv2fE0RIgqf",
        "outputId": "5d5c3486-e6e4-4ed3-e7aa-84f169132074"
      },
      "source": [
        "for C in Cs:\r\n",
        "  print(f'C={C}')\r\n",
        "  lr_clf = LogisticRegression(C=C, max_iter=200)\r\n",
        "  lr_clf.fit(X_train_tfidf_res, y_train_res)\r\n",
        "  print(classification_report(y_val, lr_clf.predict(X_val_tfidf)))"
      ],
      "execution_count": null,
      "outputs": [
        {
          "output_type": "stream",
          "text": [
            "C=0.001\n",
            "              precision    recall  f1-score   support\n",
            "\n",
            "           1       0.38      0.73      0.50      4811\n",
            "           2       0.21      0.27      0.24      2699\n",
            "           3       0.45      0.28      0.34      5111\n",
            "           4       0.39      0.46      0.42      9323\n",
            "           5       0.80      0.62      0.70     22516\n",
            "\n",
            "    accuracy                           0.54     44460\n",
            "   macro avg       0.45      0.47      0.44     44460\n",
            "weighted avg       0.59      0.54      0.55     44460\n",
            "\n",
            "C=0.01\n",
            "              precision    recall  f1-score   support\n",
            "\n",
            "           1       0.46      0.69      0.55      4811\n",
            "           2       0.22      0.37      0.28      2699\n",
            "           3       0.42      0.32      0.36      5111\n",
            "           4       0.39      0.48      0.43      9323\n",
            "           5       0.81      0.63      0.71     22516\n",
            "\n",
            "    accuracy                           0.55     44460\n",
            "   macro avg       0.46      0.50      0.47     44460\n",
            "weighted avg       0.60      0.55      0.57     44460\n",
            "\n",
            "C=0.1\n",
            "              precision    recall  f1-score   support\n",
            "\n",
            "           1       0.55      0.66      0.60      4811\n",
            "           2       0.24      0.42      0.31      2699\n",
            "           3       0.39      0.38      0.39      5111\n",
            "           4       0.41      0.50      0.45      9323\n",
            "           5       0.83      0.65      0.73     22516\n",
            "\n",
            "    accuracy                           0.57     44460\n",
            "   macro avg       0.48      0.52      0.49     44460\n",
            "weighted avg       0.62      0.57      0.59     44460\n",
            "\n",
            "C=1\n"
          ],
          "name": "stdout"
        },
        {
          "output_type": "stream",
          "text": [
            "/usr/local/lib/python3.6/dist-packages/sklearn/linear_model/_logistic.py:940: ConvergenceWarning: lbfgs failed to converge (status=1):\n",
            "STOP: TOTAL NO. of ITERATIONS REACHED LIMIT.\n",
            "\n",
            "Increase the number of iterations (max_iter) or scale the data as shown in:\n",
            "    https://scikit-learn.org/stable/modules/preprocessing.html\n",
            "Please also refer to the documentation for alternative solver options:\n",
            "    https://scikit-learn.org/stable/modules/linear_model.html#logistic-regression\n",
            "  extra_warning_msg=_LOGISTIC_SOLVER_CONVERGENCE_MSG)\n"
          ],
          "name": "stderr"
        },
        {
          "output_type": "stream",
          "text": [
            "              precision    recall  f1-score   support\n",
            "\n",
            "           1       0.60      0.65      0.62      4811\n",
            "           2       0.24      0.41      0.31      2699\n",
            "           3       0.37      0.40      0.38      5111\n",
            "           4       0.39      0.48      0.43      9323\n",
            "           5       0.83      0.65      0.73     22516\n",
            "\n",
            "    accuracy                           0.57     44460\n",
            "   macro avg       0.49      0.52      0.49     44460\n",
            "weighted avg       0.62      0.57      0.59     44460\n",
            "\n",
            "C=2\n"
          ],
          "name": "stdout"
        },
        {
          "output_type": "stream",
          "text": [
            "/usr/local/lib/python3.6/dist-packages/sklearn/linear_model/_logistic.py:940: ConvergenceWarning: lbfgs failed to converge (status=1):\n",
            "STOP: TOTAL NO. of ITERATIONS REACHED LIMIT.\n",
            "\n",
            "Increase the number of iterations (max_iter) or scale the data as shown in:\n",
            "    https://scikit-learn.org/stable/modules/preprocessing.html\n",
            "Please also refer to the documentation for alternative solver options:\n",
            "    https://scikit-learn.org/stable/modules/linear_model.html#logistic-regression\n",
            "  extra_warning_msg=_LOGISTIC_SOLVER_CONVERGENCE_MSG)\n"
          ],
          "name": "stderr"
        },
        {
          "output_type": "stream",
          "text": [
            "              precision    recall  f1-score   support\n",
            "\n",
            "           1       0.60      0.63      0.62      4811\n",
            "           2       0.24      0.41      0.30      2699\n",
            "           3       0.35      0.40      0.38      5111\n",
            "           4       0.38      0.46      0.42      9323\n",
            "           5       0.82      0.64      0.72     22516\n",
            "\n",
            "    accuracy                           0.56     44460\n",
            "   macro avg       0.48      0.51      0.49     44460\n",
            "weighted avg       0.62      0.56      0.58     44460\n",
            "\n",
            "C=5\n"
          ],
          "name": "stdout"
        },
        {
          "output_type": "stream",
          "text": [
            "/usr/local/lib/python3.6/dist-packages/sklearn/linear_model/_logistic.py:940: ConvergenceWarning: lbfgs failed to converge (status=1):\n",
            "STOP: TOTAL NO. of ITERATIONS REACHED LIMIT.\n",
            "\n",
            "Increase the number of iterations (max_iter) or scale the data as shown in:\n",
            "    https://scikit-learn.org/stable/modules/preprocessing.html\n",
            "Please also refer to the documentation for alternative solver options:\n",
            "    https://scikit-learn.org/stable/modules/linear_model.html#logistic-regression\n",
            "  extra_warning_msg=_LOGISTIC_SOLVER_CONVERGENCE_MSG)\n"
          ],
          "name": "stderr"
        },
        {
          "output_type": "stream",
          "text": [
            "              precision    recall  f1-score   support\n",
            "\n",
            "           1       0.59      0.63      0.61      4811\n",
            "           2       0.23      0.38      0.29      2699\n",
            "           3       0.34      0.39      0.36      5111\n",
            "           4       0.36      0.46      0.40      9323\n",
            "           5       0.82      0.62      0.71     22516\n",
            "\n",
            "    accuracy                           0.55     44460\n",
            "   macro avg       0.47      0.50      0.47     44460\n",
            "weighted avg       0.61      0.55      0.57     44460\n",
            "\n",
            "C=10\n"
          ],
          "name": "stdout"
        },
        {
          "output_type": "stream",
          "text": [
            "/usr/local/lib/python3.6/dist-packages/sklearn/linear_model/_logistic.py:940: ConvergenceWarning: lbfgs failed to converge (status=1):\n",
            "STOP: TOTAL NO. of ITERATIONS REACHED LIMIT.\n",
            "\n",
            "Increase the number of iterations (max_iter) or scale the data as shown in:\n",
            "    https://scikit-learn.org/stable/modules/preprocessing.html\n",
            "Please also refer to the documentation for alternative solver options:\n",
            "    https://scikit-learn.org/stable/modules/linear_model.html#logistic-regression\n",
            "  extra_warning_msg=_LOGISTIC_SOLVER_CONVERGENCE_MSG)\n"
          ],
          "name": "stderr"
        },
        {
          "output_type": "stream",
          "text": [
            "              precision    recall  f1-score   support\n",
            "\n",
            "           1       0.59      0.62      0.61      4811\n",
            "           2       0.23      0.40      0.29      2699\n",
            "           3       0.35      0.40      0.37      5111\n",
            "           4       0.37      0.45      0.41      9323\n",
            "           5       0.82      0.63      0.71     22516\n",
            "\n",
            "    accuracy                           0.55     44460\n",
            "   macro avg       0.47      0.50      0.48     44460\n",
            "weighted avg       0.61      0.55      0.57     44460\n",
            "\n",
            "C=20\n"
          ],
          "name": "stdout"
        },
        {
          "output_type": "stream",
          "text": [
            "/usr/local/lib/python3.6/dist-packages/sklearn/linear_model/_logistic.py:940: ConvergenceWarning: lbfgs failed to converge (status=1):\n",
            "STOP: TOTAL NO. of ITERATIONS REACHED LIMIT.\n",
            "\n",
            "Increase the number of iterations (max_iter) or scale the data as shown in:\n",
            "    https://scikit-learn.org/stable/modules/preprocessing.html\n",
            "Please also refer to the documentation for alternative solver options:\n",
            "    https://scikit-learn.org/stable/modules/linear_model.html#logistic-regression\n",
            "  extra_warning_msg=_LOGISTIC_SOLVER_CONVERGENCE_MSG)\n"
          ],
          "name": "stderr"
        },
        {
          "output_type": "stream",
          "text": [
            "              precision    recall  f1-score   support\n",
            "\n",
            "           1       0.59      0.61      0.60      4811\n",
            "           2       0.22      0.38      0.28      2699\n",
            "           3       0.31      0.39      0.35      5111\n",
            "           4       0.35      0.44      0.39      9323\n",
            "           5       0.81      0.60      0.69     22516\n",
            "\n",
            "    accuracy                           0.53     44460\n",
            "   macro avg       0.46      0.49      0.46     44460\n",
            "weighted avg       0.60      0.53      0.55     44460\n",
            "\n",
            "C=30\n"
          ],
          "name": "stdout"
        },
        {
          "output_type": "stream",
          "text": [
            "/usr/local/lib/python3.6/dist-packages/sklearn/linear_model/_logistic.py:940: ConvergenceWarning: lbfgs failed to converge (status=1):\n",
            "STOP: TOTAL NO. of ITERATIONS REACHED LIMIT.\n",
            "\n",
            "Increase the number of iterations (max_iter) or scale the data as shown in:\n",
            "    https://scikit-learn.org/stable/modules/preprocessing.html\n",
            "Please also refer to the documentation for alternative solver options:\n",
            "    https://scikit-learn.org/stable/modules/linear_model.html#logistic-regression\n",
            "  extra_warning_msg=_LOGISTIC_SOLVER_CONVERGENCE_MSG)\n"
          ],
          "name": "stderr"
        },
        {
          "output_type": "stream",
          "text": [
            "              precision    recall  f1-score   support\n",
            "\n",
            "           1       0.58      0.61      0.60      4811\n",
            "           2       0.22      0.38      0.28      2699\n",
            "           3       0.31      0.38      0.34      5111\n",
            "           4       0.35      0.43      0.39      9323\n",
            "           5       0.81      0.61      0.70     22516\n",
            "\n",
            "    accuracy                           0.53     44460\n",
            "   macro avg       0.45      0.48      0.46     44460\n",
            "weighted avg       0.60      0.53      0.55     44460\n",
            "\n",
            "C=50\n"
          ],
          "name": "stdout"
        },
        {
          "output_type": "stream",
          "text": [
            "/usr/local/lib/python3.6/dist-packages/sklearn/linear_model/_logistic.py:940: ConvergenceWarning: lbfgs failed to converge (status=1):\n",
            "STOP: TOTAL NO. of ITERATIONS REACHED LIMIT.\n",
            "\n",
            "Increase the number of iterations (max_iter) or scale the data as shown in:\n",
            "    https://scikit-learn.org/stable/modules/preprocessing.html\n",
            "Please also refer to the documentation for alternative solver options:\n",
            "    https://scikit-learn.org/stable/modules/linear_model.html#logistic-regression\n",
            "  extra_warning_msg=_LOGISTIC_SOLVER_CONVERGENCE_MSG)\n"
          ],
          "name": "stderr"
        },
        {
          "output_type": "stream",
          "text": [
            "              precision    recall  f1-score   support\n",
            "\n",
            "           1       0.59      0.60      0.59      4811\n",
            "           2       0.21      0.40      0.28      2699\n",
            "           3       0.31      0.36      0.33      5111\n",
            "           4       0.34      0.44      0.39      9323\n",
            "           5       0.81      0.59      0.68     22516\n",
            "\n",
            "    accuracy                           0.52     44460\n",
            "   macro avg       0.45      0.48      0.45     44460\n",
            "weighted avg       0.59      0.52      0.55     44460\n",
            "\n",
            "C=100\n",
            "              precision    recall  f1-score   support\n",
            "\n",
            "           1       0.58      0.59      0.58      4811\n",
            "           2       0.21      0.40      0.27      2699\n",
            "           3       0.30      0.37      0.33      5111\n",
            "           4       0.35      0.42      0.38      9323\n",
            "           5       0.81      0.59      0.68     22516\n",
            "\n",
            "    accuracy                           0.52     44460\n",
            "   macro avg       0.45      0.48      0.45     44460\n",
            "weighted avg       0.59      0.52      0.54     44460\n",
            "\n"
          ],
          "name": "stdout"
        },
        {
          "output_type": "stream",
          "text": [
            "/usr/local/lib/python3.6/dist-packages/sklearn/linear_model/_logistic.py:940: ConvergenceWarning: lbfgs failed to converge (status=1):\n",
            "STOP: TOTAL NO. of ITERATIONS REACHED LIMIT.\n",
            "\n",
            "Increase the number of iterations (max_iter) or scale the data as shown in:\n",
            "    https://scikit-learn.org/stable/modules/preprocessing.html\n",
            "Please also refer to the documentation for alternative solver options:\n",
            "    https://scikit-learn.org/stable/modules/linear_model.html#logistic-regression\n",
            "  extra_warning_msg=_LOGISTIC_SOLVER_CONVERGENCE_MSG)\n"
          ],
          "name": "stderr"
        }
      ]
    },
    {
      "cell_type": "code",
      "metadata": {
        "colab": {
          "base_uri": "https://localhost:8080/"
        },
        "id": "2CwhDdnhK_wf",
        "outputId": "8ac382f5-f1af-4db5-f008-70bbad4b67fc"
      },
      "source": [
        "lr_clf = LogisticRegression(C=2)\r\n",
        "lr_clf.fit(X_train_tfidf, y_train)\r\n",
        "y_pred_lr = lr_clf.predict(X_val_tfidf)\r\n",
        "y_pred_lr_proba = lr_clf.predict_proba(X_val_tfidf)\r\n",
        "print(classification_report(y_val, y_pred_lr))"
      ],
      "execution_count": null,
      "outputs": [
        {
          "output_type": "stream",
          "text": [
            "              precision    recall  f1-score   support\n",
            "\n",
            "           1       0.64      0.71      0.67      4811\n",
            "           2       0.35      0.19      0.24      2699\n",
            "           3       0.46      0.35      0.40      5111\n",
            "           4       0.46      0.34      0.39      9323\n",
            "           5       0.74      0.88      0.80     22516\n",
            "\n",
            "    accuracy                           0.65     44460\n",
            "   macro avg       0.53      0.49      0.50     44460\n",
            "weighted avg       0.61      0.65      0.62     44460\n",
            "\n"
          ],
          "name": "stdout"
        },
        {
          "output_type": "stream",
          "text": [
            "/usr/local/lib/python3.6/dist-packages/sklearn/linear_model/_logistic.py:940: ConvergenceWarning: lbfgs failed to converge (status=1):\n",
            "STOP: TOTAL NO. of ITERATIONS REACHED LIMIT.\n",
            "\n",
            "Increase the number of iterations (max_iter) or scale the data as shown in:\n",
            "    https://scikit-learn.org/stable/modules/preprocessing.html\n",
            "Please also refer to the documentation for alternative solver options:\n",
            "    https://scikit-learn.org/stable/modules/linear_model.html#logistic-regression\n",
            "  extra_warning_msg=_LOGISTIC_SOLVER_CONVERGENCE_MSG)\n"
          ],
          "name": "stderr"
        }
      ]
    },
    {
      "cell_type": "code",
      "metadata": {
        "colab": {
          "base_uri": "https://localhost:8080/"
        },
        "id": "5BzFLWKWtcTe",
        "outputId": "e46f3cf6-30ba-4955-86c0-ab2d7e7b2009"
      },
      "source": [
        "print(y_pred_lr_proba[0:5])\r\n",
        "print(X_val['helpfulness'].head())"
      ],
      "execution_count": null,
      "outputs": [
        {
          "output_type": "stream",
          "text": [
            "[[5.76328611e-03 6.28562794e-03 2.00848864e-02 7.62069819e-02\n",
            "  8.91659218e-01]\n",
            " [1.38807527e-02 4.91876125e-02 2.91482742e-01 5.49529641e-01\n",
            "  9.59192521e-02]\n",
            " [2.67558025e-04 1.84600994e-03 2.92671028e-02 4.21734010e-01\n",
            "  5.46885319e-01]\n",
            " [6.69266999e-03 3.90889799e-02 2.43025614e-01 4.64069290e-01\n",
            "  2.47123446e-01]\n",
            " [1.02393832e-02 1.41531794e-02 2.89832988e-02 1.94785731e-01\n",
            "  7.51838408e-01]]\n",
            "292613    1.0\n",
            "11271     1.0\n",
            "251915    1.0\n",
            "57340     0.5\n",
            "457247    1.0\n",
            "Name: helpfulness, dtype: float64\n"
          ],
          "name": "stdout"
        }
      ]
    },
    {
      "cell_type": "code",
      "metadata": {
        "colab": {
          "base_uri": "https://localhost:8080/"
        },
        "id": "cuBY89f0tQ1O",
        "outputId": "b0f0a1e0-0240-4d13-c519-f260fb7831fa"
      },
      "source": [
        "X_proba_train = lr_clf.predict_proba(X_train_tfidf)\r\n",
        "X_proba_val = lr_clf.predict_proba(X_val_tfidf)\r\n",
        "X_proba_help_train = [np.append(probas, helpfulness) for (probas, helpfulness) in zip(y_proba_train, X_train['helpfulness'].tolist())]\r\n",
        "X_proba_help_val = [np.append(probas, helpfulness) for (probas, helpfulness) in zip(y_proba_val, X_val['helpfulness'].tolist())]\r\n",
        "print(X_proba_help_train[0])\r\n",
        "print(X_proba_help_val[0])"
      ],
      "execution_count": null,
      "outputs": [
        {
          "output_type": "stream",
          "text": [
            "[0.03513642 0.110353   0.19298189 0.35026011 0.31126857 0.7962963 ]\n",
            "[0.00576329 0.00628563 0.02008489 0.07620698 0.89165922 1.        ]\n"
          ],
          "name": "stdout"
        }
      ]
    },
    {
      "cell_type": "code",
      "metadata": {
        "colab": {
          "base_uri": "https://localhost:8080/"
        },
        "id": "N6LJPYj5v-oZ",
        "outputId": "22b55e9c-0c0f-41ea-ad7c-c323f2f487a1"
      },
      "source": [
        "tree = DecisionTreeClassifier()\r\n",
        "tree.fit(X_proba_help_train, y_train)\r\n",
        "pred = tree.predict(X_proba_help_val)\r\n",
        "print(classification_report(y_val, pred))"
      ],
      "execution_count": null,
      "outputs": [
        {
          "output_type": "stream",
          "text": [
            "              precision    recall  f1-score   support\n",
            "\n",
            "           1       0.57      0.56      0.57      4811\n",
            "           2       0.23      0.23      0.23      2699\n",
            "           3       0.31      0.31      0.31      5111\n",
            "           4       0.34      0.35      0.34      9323\n",
            "           5       0.73      0.72      0.72     22516\n",
            "\n",
            "    accuracy                           0.55     44460\n",
            "   macro avg       0.44      0.43      0.43     44460\n",
            "weighted avg       0.55      0.55      0.55     44460\n",
            "\n"
          ],
          "name": "stdout"
        }
      ]
    },
    {
      "cell_type": "code",
      "metadata": {
        "colab": {
          "base_uri": "https://localhost:8080/"
        },
        "id": "i925aaQhwWGz",
        "outputId": "42498432-9e31-4949-dce3-2e278e21c63f"
      },
      "source": [
        "lr_clf2 = LogisticRegression(C=2)\r\n",
        "lr_clf2.fit(X_proba_help_train, y_train)\r\n",
        "pred = lr_clf2.predict(X_proba_help_val)\r\n",
        "print(classification_report(y_val, pred))"
      ],
      "execution_count": null,
      "outputs": [
        {
          "output_type": "stream",
          "text": [
            "              precision    recall  f1-score   support\n",
            "\n",
            "           1       0.66      0.70      0.68      4811\n",
            "           2       0.35      0.19      0.24      2699\n",
            "           3       0.44      0.38      0.41      5111\n",
            "           4       0.45      0.36      0.40      9323\n",
            "           5       0.75      0.87      0.80     22516\n",
            "\n",
            "    accuracy                           0.64     44460\n",
            "   macro avg       0.53      0.50      0.51     44460\n",
            "weighted avg       0.62      0.64      0.63     44460\n",
            "\n"
          ],
          "name": "stdout"
        }
      ]
    },
    {
      "cell_type": "markdown",
      "metadata": {
        "id": "r2aP1Om0nbEP"
      },
      "source": [
        "### Test dataset\r\n"
      ]
    },
    {
      "cell_type": "code",
      "metadata": {
        "id": "R55JWZzQmkzi"
      },
      "source": [
        "X_test = test_df[['review_and_summary_preprocessed', 'helpfulness']]\r\n",
        "X_train = train_df[['review_and_summary_preprocessed', 'helpfulness']]\r\n",
        "\r\n",
        "list_of_docs_train = [' '.join(words) for words in X_train['review_and_summary_preprocessed'].tolist()]\r\n",
        "list_of_docs_test = [' '.join(words) for words in X_test['review_and_summary_preprocessed'].tolist()]\r\n",
        "\r\n",
        "X_train_tfidf = tfidf.fit_transform(list_of_docs_train)\r\n",
        "X_test_tfidf = tfidf.transform(list_of_docs_test)\r\n",
        "\r\n",
        "y_train = train_df['score']\r\n",
        "y_test = test_df['score']"
      ],
      "execution_count": 40,
      "outputs": []
    },
    {
      "cell_type": "code",
      "metadata": {
        "colab": {
          "base_uri": "https://localhost:8080/"
        },
        "id": "roh2FlKQrgqM",
        "outputId": "f733deb1-5a50-43d7-a539-a0ede826a216"
      },
      "source": [
        "undersampler = RandomUnderSampler()\r\n",
        "X_train_res, y_train_res = undersampler.fit_resample(X_train, y_train)\r\n",
        "list_of_docs_train_res = [' '.join(words) for words in X_train_res[:,0]]\r\n",
        "X_train_tfidf_res = tfidf.transform(list_of_docs_train_res)\r\n",
        "print(Counter(y_train_res))"
      ],
      "execution_count": 41,
      "outputs": [
        {
          "output_type": "stream",
          "text": [
            "/usr/local/lib/python3.6/dist-packages/sklearn/utils/deprecation.py:87: FutureWarning: Function safe_indexing is deprecated; safe_indexing is deprecated in version 0.22 and will be removed in version 0.24.\n",
            "  warnings.warn(msg, category=FutureWarning)\n"
          ],
          "name": "stderr"
        },
        {
          "output_type": "stream",
          "text": [
            "Counter({1: 26988, 2: 26988, 3: 26988, 4: 26988, 5: 26988})\n"
          ],
          "name": "stdout"
        }
      ]
    },
    {
      "cell_type": "code",
      "metadata": {
        "colab": {
          "base_uri": "https://localhost:8080/"
        },
        "id": "YYqHHvncpuj5",
        "outputId": "4ca80ea0-9b9d-43aa-cccd-51e3bd65a8b7"
      },
      "source": [
        "print(X_train_tfidf.shape)\r\n",
        "print(X_test_tfidf.shape)"
      ],
      "execution_count": 42,
      "outputs": [
        {
          "output_type": "stream",
          "text": [
            "(444596, 24000)\n",
            "(111149, 24000)\n"
          ],
          "name": "stdout"
        }
      ]
    },
    {
      "cell_type": "code",
      "metadata": {
        "colab": {
          "base_uri": "https://localhost:8080/"
        },
        "id": "5_b_Qy9tqtr8",
        "outputId": "7706df93-5e7e-4ca7-ead0-dd3e8c05e1b3"
      },
      "source": [
        "dummy_clf = DummyClassifier(strategy='stratified')\r\n",
        "dummy_clf.fit(X_train_tfidf, y_train)\r\n",
        "print(classification_report(y_test, dummy_clf.predict(X_test_tfidf)))"
      ],
      "execution_count": 43,
      "outputs": [
        {
          "output_type": "stream",
          "text": [
            "              precision    recall  f1-score   support\n",
            "\n",
            "           1       0.11      0.11      0.11     12028\n",
            "           2       0.06      0.06      0.06      6747\n",
            "           3       0.11      0.11      0.11     12778\n",
            "           4       0.21      0.21      0.21     23307\n",
            "           5       0.51      0.51      0.51     56289\n",
            "\n",
            "    accuracy                           0.33    111149\n",
            "   macro avg       0.20      0.20      0.20    111149\n",
            "weighted avg       0.33      0.33      0.33    111149\n",
            "\n"
          ],
          "name": "stdout"
        }
      ]
    },
    {
      "cell_type": "code",
      "metadata": {
        "colab": {
          "base_uri": "https://localhost:8080/"
        },
        "id": "prOAG8YdrHIH",
        "outputId": "8a1e58f1-3bb0-4dfe-978c-257075874534"
      },
      "source": [
        "lr_clf = LogisticRegression(C=2)\r\n",
        "lr_clf.fit(X_train_tfidf, y_train)\r\n",
        "y_pred = lr_clf.predict(X_test_tfidf)\r\n",
        "print(classification_report(y_test, y_pred))"
      ],
      "execution_count": 44,
      "outputs": [
        {
          "output_type": "stream",
          "text": [
            "/usr/local/lib/python3.6/dist-packages/sklearn/linear_model/_logistic.py:940: ConvergenceWarning: lbfgs failed to converge (status=1):\n",
            "STOP: TOTAL NO. of ITERATIONS REACHED LIMIT.\n",
            "\n",
            "Increase the number of iterations (max_iter) or scale the data as shown in:\n",
            "    https://scikit-learn.org/stable/modules/preprocessing.html\n",
            "Please also refer to the documentation for alternative solver options:\n",
            "    https://scikit-learn.org/stable/modules/linear_model.html#logistic-regression\n",
            "  extra_warning_msg=_LOGISTIC_SOLVER_CONVERGENCE_MSG)\n"
          ],
          "name": "stderr"
        },
        {
          "output_type": "stream",
          "text": [
            "              precision    recall  f1-score   support\n",
            "\n",
            "           1       0.63      0.72      0.67     12028\n",
            "           2       0.34      0.14      0.20      6747\n",
            "           3       0.48      0.37      0.42     12778\n",
            "           4       0.47      0.33      0.39     23307\n",
            "           5       0.73      0.89      0.80     56289\n",
            "\n",
            "    accuracy                           0.65    111149\n",
            "   macro avg       0.53      0.49      0.49    111149\n",
            "weighted avg       0.61      0.65      0.62    111149\n",
            "\n"
          ],
          "name": "stdout"
        }
      ]
    },
    {
      "cell_type": "code",
      "metadata": {
        "colab": {
          "base_uri": "https://localhost:8080/"
        },
        "id": "d4nSR5larWwc",
        "outputId": "f55778f6-aa20-4cdd-b604-192bac12b858"
      },
      "source": [
        "lr_clf_res = LogisticRegression(C=1)\r\n",
        "lr_clf_res.fit(X_train_tfidf_res, y_train_res)\r\n",
        "y_pred = lr_clf_res.predict(X_test_tfidf)\r\n",
        "print(classification_report(y_test, y_pred))"
      ],
      "execution_count": 45,
      "outputs": [
        {
          "output_type": "stream",
          "text": [
            "/usr/local/lib/python3.6/dist-packages/sklearn/linear_model/_logistic.py:940: ConvergenceWarning: lbfgs failed to converge (status=1):\n",
            "STOP: TOTAL NO. of ITERATIONS REACHED LIMIT.\n",
            "\n",
            "Increase the number of iterations (max_iter) or scale the data as shown in:\n",
            "    https://scikit-learn.org/stable/modules/preprocessing.html\n",
            "Please also refer to the documentation for alternative solver options:\n",
            "    https://scikit-learn.org/stable/modules/linear_model.html#logistic-regression\n",
            "  extra_warning_msg=_LOGISTIC_SOLVER_CONVERGENCE_MSG)\n"
          ],
          "name": "stderr"
        },
        {
          "output_type": "stream",
          "text": [
            "              precision    recall  f1-score   support\n",
            "\n",
            "           1       0.62      0.64      0.63     12028\n",
            "           2       0.25      0.44      0.32      6747\n",
            "           3       0.38      0.43      0.41     12778\n",
            "           4       0.40      0.48      0.44     23307\n",
            "           5       0.83      0.66      0.73     56289\n",
            "\n",
            "    accuracy                           0.58    111149\n",
            "   macro avg       0.50      0.53      0.50    111149\n",
            "weighted avg       0.63      0.58      0.60    111149\n",
            "\n"
          ],
          "name": "stdout"
        }
      ]
    },
    {
      "cell_type": "code",
      "metadata": {
        "colab": {
          "base_uri": "https://localhost:8080/"
        },
        "id": "IoCVlH8JtW3r",
        "outputId": "96f7fd47-c105-4394-a2b0-7544a57781e1"
      },
      "source": [
        "y_proba_train = lr_clf.predict_proba(X_train_tfidf)\r\n",
        "y_proba_test = lr_clf.predict_proba(X_test_tfidf)\r\n",
        "\r\n",
        "X_proba_help_train = [np.append(probas, helpfulness) for (probas, helpfulness) in zip(y_proba_train, X_train['helpfulness'].tolist())]\r\n",
        "X_proba_help_test = [np.append(probas, helpfulness) for (probas, helpfulness) in zip(y_proba_test, X_test['helpfulness'].tolist())]\r\n",
        "\r\n",
        "lr_clf_help = LogisticRegression(C=2)\r\n",
        "lr_clf_help.fit(X_proba_help_train, y_train)\r\n",
        "y_pred = lr_clf_help.predict(X_proba_help_test)\r\n",
        "print(classification_report(y_test, y_pred))"
      ],
      "execution_count": 46,
      "outputs": [
        {
          "output_type": "stream",
          "text": [
            "              precision    recall  f1-score   support\n",
            "\n",
            "           1       0.65      0.70      0.67     12028\n",
            "           2       0.35      0.17      0.23      6747\n",
            "           3       0.45      0.42      0.43     12778\n",
            "           4       0.47      0.35      0.40     23307\n",
            "           5       0.75      0.87      0.81     56289\n",
            "\n",
            "    accuracy                           0.65    111149\n",
            "   macro avg       0.53      0.50      0.51    111149\n",
            "weighted avg       0.62      0.65      0.63    111149\n",
            "\n"
          ],
          "name": "stdout"
        }
      ]
    },
    {
      "cell_type": "code",
      "metadata": {
        "colab": {
          "base_uri": "https://localhost:8080/"
        },
        "id": "S17CKMikvcbI",
        "outputId": "9e19e7de-76ad-4f9c-8fd4-8370f5cb09bf"
      },
      "source": [
        "y_proba_train_res = lr_clf_res.predict_proba(X_train_tfidf_res)\r\n",
        "y_proba_test = lr_clf_res.predict_proba(X_test_tfidf)\r\n",
        "\r\n",
        "X_proba_help_train_res = [np.append(probas, helpfulness) for (probas, helpfulness) in zip(y_proba_train_res, X_train_res[:,1])]\r\n",
        "X_proba_help_test = [np.append(probas, helpfulness) for (probas, helpfulness) in zip(y_proba_test, X_test['helpfulness'].tolist())]\r\n",
        "\r\n",
        "lr_clf_help_res = LogisticRegression(C=1)\r\n",
        "lr_clf_help_res.fit(X_proba_help_train_res, y_train_res)\r\n",
        "y_pred = lr_clf_help.predict(X_proba_help_test)\r\n",
        "print(classification_report(y_test, y_pred))"
      ],
      "execution_count": 50,
      "outputs": [
        {
          "output_type": "stream",
          "text": [
            "              precision    recall  f1-score   support\n",
            "\n",
            "           1       0.65      0.62      0.63     12028\n",
            "           2       0.26      0.47      0.34      6747\n",
            "           3       0.34      0.48      0.40     12778\n",
            "           4       0.38      0.47      0.42     23307\n",
            "           5       0.85      0.62      0.71     56289\n",
            "\n",
            "    accuracy                           0.56    111149\n",
            "   macro avg       0.50      0.53      0.50    111149\n",
            "weighted avg       0.63      0.56      0.58    111149\n",
            "\n"
          ],
          "name": "stdout"
        }
      ]
    },
    {
      "cell_type": "code",
      "metadata": {
        "colab": {
          "base_uri": "https://localhost:8080/"
        },
        "id": "Kxhaw5GTtBA2",
        "outputId": "5b2e6251-76a3-45cc-f258-832093b4fbce"
      },
      "source": [
        "nb_clf_res = MultinomialNB(alpha=5)\r\n",
        "nb_clf_res.fit(X_train_tfidf_res, y_train_res)\r\n",
        "y_pred = nb_clf_res.predict(X_test_tfidf)\r\n",
        "print(classification_report(y_test, y_pred))"
      ],
      "execution_count": 52,
      "outputs": [
        {
          "output_type": "stream",
          "text": [
            "              precision    recall  f1-score   support\n",
            "\n",
            "           1       0.52      0.67      0.58     12028\n",
            "           2       0.23      0.43      0.30      6747\n",
            "           3       0.40      0.38      0.39     12778\n",
            "           4       0.39      0.47      0.43     23307\n",
            "           5       0.83      0.63      0.72     56289\n",
            "\n",
            "    accuracy                           0.56    111149\n",
            "   macro avg       0.47      0.52      0.48    111149\n",
            "weighted avg       0.62      0.56      0.58    111149\n",
            "\n"
          ],
          "name": "stdout"
        }
      ]
    },
    {
      "cell_type": "code",
      "metadata": {
        "id": "7sLfbjgJIf6K"
      },
      "source": [
        "def prepare_data(data):\r\n",
        "  data['review_and_summary_preprocessed'] = data['reviewText'] + ' ' + data['summary']\r\n",
        "  data['review_and_summary_preprocessed'] = data['review_and_summary_preprocessed'].apply(preprocess_text)\r\n",
        "  list_of_docs_test = [' '.join(words) for words in data['review_and_summary_preprocessed'].tolist()]\r\n",
        "  X_test_tfidf = tfidf.transform(list_of_docs_test)\r\n",
        "  return X_test_tfidf\r\n"
      ],
      "execution_count": null,
      "outputs": []
    },
    {
      "cell_type": "code",
      "metadata": {
        "id": "Rxtr7wv2LlhK"
      },
      "source": [
        "import pickle\r\n",
        "pickle.dump(lr_clf_res, open(\"lr_clf_res.pickle\", \"wb\"))\r\n",
        "pickle.dump(tfidf, open(\"tfidf.pickle\", \"wb\"))\r\n"
      ],
      "execution_count": 55,
      "outputs": []
    },
    {
      "cell_type": "code",
      "metadata": {
        "id": "C7dXchFyTgFv"
      },
      "source": [
        "pickle.dump(preprocess_text, open('preprocess_text.pickle', 'wb'))"
      ],
      "execution_count": 63,
      "outputs": []
    },
    {
      "cell_type": "code",
      "metadata": {
        "colab": {
          "base_uri": "https://localhost:8080/",
          "height": 279
        },
        "id": "qzR0YFd-Qu6J",
        "outputId": "c01ecede-ae2b-4329-80ab-b3d13f32fe76"
      },
      "source": [
        "test_df_raw = test_df.drop(columns=['helpfulness', 'review_and_summary_preprocessed', 'helpful_yes', 'helpful_not'])\r\n",
        "test_df_raw.to_csv('test_raw.csv', index=False)\r\n",
        "test_df_raw.head()"
      ],
      "execution_count": 62,
      "outputs": [
        {
          "output_type": "execute_result",
          "data": {
            "text/html": [
              "<div>\n",
              "<style scoped>\n",
              "    .dataframe tbody tr th:only-of-type {\n",
              "        vertical-align: middle;\n",
              "    }\n",
              "\n",
              "    .dataframe tbody tr th {\n",
              "        vertical-align: top;\n",
              "    }\n",
              "\n",
              "    .dataframe thead th {\n",
              "        text-align: right;\n",
              "    }\n",
              "</style>\n",
              "<table border=\"1\" class=\"dataframe\">\n",
              "  <thead>\n",
              "    <tr style=\"text-align: right;\">\n",
              "      <th></th>\n",
              "      <th>reviewerID</th>\n",
              "      <th>asin</th>\n",
              "      <th>reviewerName</th>\n",
              "      <th>helpful</th>\n",
              "      <th>reviewText</th>\n",
              "      <th>summary</th>\n",
              "      <th>unixReviewTime</th>\n",
              "      <th>reviewTime</th>\n",
              "      <th>score</th>\n",
              "    </tr>\n",
              "  </thead>\n",
              "  <tbody>\n",
              "    <tr>\n",
              "      <th>296696</th>\n",
              "      <td>A183BJURA8ULMO</td>\n",
              "      <td>B009UWM3OU</td>\n",
              "      <td>Wands Wade</td>\n",
              "      <td>[2, 2]</td>\n",
              "      <td>This game is great it is so much fun trying to...</td>\n",
              "      <td>Guess the Word Premium</td>\n",
              "      <td>1359763200</td>\n",
              "      <td>02 2, 2013</td>\n",
              "      <td>5</td>\n",
              "    </tr>\n",
              "    <tr>\n",
              "      <th>38880</th>\n",
              "      <td>A1FDLXNG7BIDAP</td>\n",
              "      <td>B006RAX9OQ</td>\n",
              "      <td>Glenn</td>\n",
              "      <td>[1, 2]</td>\n",
              "      <td>You get 1 star until you remove the ads from m...</td>\n",
              "      <td>Update ruined the game.</td>\n",
              "      <td>1350604800</td>\n",
              "      <td>10 19, 2012</td>\n",
              "      <td>1</td>\n",
              "    </tr>\n",
              "    <tr>\n",
              "      <th>413809</th>\n",
              "      <td>A1LIVZ6J2HE37Y</td>\n",
              "      <td>B008D2QRAO</td>\n",
              "      <td>rooster</td>\n",
              "      <td>[0, 0]</td>\n",
              "      <td>this game is fun. the graphics are above avera...</td>\n",
              "      <td>slots journey</td>\n",
              "      <td>1343779200</td>\n",
              "      <td>08 1, 2012</td>\n",
              "      <td>4</td>\n",
              "    </tr>\n",
              "    <tr>\n",
              "      <th>524340</th>\n",
              "      <td>A23GI2S7MVJRVP</td>\n",
              "      <td>B00G5LQ5MU</td>\n",
              "      <td>ace.mom</td>\n",
              "      <td>[0, 0]</td>\n",
              "      <td>If you like puzzles you will enjoy this game. ...</td>\n",
              "      <td>clues</td>\n",
              "      <td>1388966400</td>\n",
              "      <td>01 6, 2014</td>\n",
              "      <td>3</td>\n",
              "    </tr>\n",
              "    <tr>\n",
              "      <th>77708</th>\n",
              "      <td>A20I8S5GNKV4I5</td>\n",
              "      <td>B004MARLJ2</td>\n",
              "      <td>Katrina Ward</td>\n",
              "      <td>[0, 0]</td>\n",
              "      <td>I got it on Amazon when it was free, but it is...</td>\n",
              "      <td>great game!</td>\n",
              "      <td>1313452800</td>\n",
              "      <td>08 16, 2011</td>\n",
              "      <td>5</td>\n",
              "    </tr>\n",
              "  </tbody>\n",
              "</table>\n",
              "</div>"
            ],
            "text/plain": [
              "            reviewerID        asin  ...   reviewTime score\n",
              "296696  A183BJURA8ULMO  B009UWM3OU  ...   02 2, 2013     5\n",
              "38880   A1FDLXNG7BIDAP  B006RAX9OQ  ...  10 19, 2012     1\n",
              "413809  A1LIVZ6J2HE37Y  B008D2QRAO  ...   08 1, 2012     4\n",
              "524340  A23GI2S7MVJRVP  B00G5LQ5MU  ...   01 6, 2014     3\n",
              "77708   A20I8S5GNKV4I5  B004MARLJ2  ...  08 16, 2011     5\n",
              "\n",
              "[5 rows x 9 columns]"
            ]
          },
          "metadata": {
            "tags": []
          },
          "execution_count": 62
        }
      ]
    }
  ]
}